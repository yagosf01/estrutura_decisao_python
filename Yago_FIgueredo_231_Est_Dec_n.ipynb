{
  "nbformat": 4,
  "nbformat_minor": 0,
  "metadata": {
    "colab": {
      "provenance": [],
      "include_colab_link": true
    },
    "kernelspec": {
      "name": "python3",
      "display_name": "Python 3"
    }
  },
  "cells": [
    {
      "cell_type": "markdown",
      "metadata": {
        "id": "view-in-github",
        "colab_type": "text"
      },
      "source": [
        "<a href=\"https://colab.research.google.com/github/yagosf01/estrutura_decisao_python/blob/main/Yago_FIgueredo_231_Est_Dec_n.ipynb\" target=\"_parent\"><img src=\"https://colab.research.google.com/assets/colab-badge.svg\" alt=\"Open In Colab\"/></a>"
      ]
    },
    {
      "cell_type": "markdown",
      "metadata": {
        "id": "I3ayCEJnHhtv"
      },
      "source": [
        "#Lista de exercícios de ESTRUTURA de DECISÃO\n",
        "#Fazer do 1 ao 20, o restante fica para estudos"
      ]
    },
    {
      "cell_type": "markdown",
      "metadata": {
        "id": "E64RcqHIMXAS"
      },
      "source": [
        "### 1.a) Faça um algoritmo que calcule e exiba o salário reajustado de um funcionário de acordo com a seguinte regra: Salário até 500, reajuste de 50%."
      ]
    },
    {
      "cell_type": "code",
      "metadata": {
        "id": "iepDUOyzHFPt",
        "colab": {
          "base_uri": "https://localhost:8080/"
        },
        "outputId": "9341ced6-3cb8-4c8d-95c3-7be50e748c20"
      },
      "source": [
        "salario = int(input('Insira o seu salario: '))\n",
        "\n",
        "if salario <= 500:\n",
        "    novo = salario + (salario * 50 / 100)\n",
        "\n",
        "print(novo)"
      ],
      "execution_count": null,
      "outputs": [
        {
          "output_type": "stream",
          "name": "stdout",
          "text": [
            "Insira o seu salrio: 500\n",
            "750.0\n"
          ]
        }
      ]
    },
    {
      "cell_type": "markdown",
      "metadata": {
        "id": "OYoL34dGG0XC"
      },
      "source": [
        "###1.b) Faça um algoritmo que calcule e exiba o salário reajustado de um funcionário de acordo com a seguinte regra: Salário até 500, reajuste de 50%; Salários maiores que 500, reajuste de 30%."
      ]
    },
    {
      "cell_type": "code",
      "metadata": {
        "id": "uLE2w6-aMadI",
        "colab": {
          "base_uri": "https://localhost:8080/"
        },
        "outputId": "f6089887-f217-46c2-b383-b7cc8cc29a51"
      },
      "source": [
        "salario = int(input('Insira o seu salario: '))\n",
        "\n",
        "if salario <= 500:\n",
        "    novo = salario + (salario * 50 / 100)\n",
        "else:\n",
        "    novo = salario + (salario * 30 / 100)\n",
        "\n",
        "print(novo)\n",
        "    \n",
        "\n"
      ],
      "execution_count": null,
      "outputs": [
        {
          "output_type": "stream",
          "name": "stdout",
          "text": [
            "Insira o seu salrio: 600\n",
            "780.0\n"
          ]
        }
      ]
    },
    {
      "cell_type": "markdown",
      "source": [
        "###1.c) Faça um algoritmo que calcule e exiba o salário reajustado de um funcionário de acordo com a seguinte regra: Salário até 500, reajuste de 50%; Salários maiores que 500 e até 1000, reajuste de 30%; Salários acima de 1000, reajuste de 10%."
      ],
      "metadata": {
        "id": "FP7AFG4hidmr"
      }
    },
    {
      "cell_type": "code",
      "source": [
        "salario = int(input('Insira o seu salario: '))\n",
        "\n",
        "if salario <= 500:\n",
        "    novo = salario + (salario * 50 / 100)\n",
        "if salario > 501:\n",
        "    novo = salario + (salario * 30 / 100)\n",
        "if salario > 1001:\n",
        "    novo = salario + (salario * 10 / 100)\n",
        "\n",
        "print(novo)"
      ],
      "metadata": {
        "id": "JslC5_aniusE",
        "colab": {
          "base_uri": "https://localhost:8080/"
        },
        "outputId": "2b69be9a-3344-4628-fd94-2529732a700f"
      },
      "execution_count": null,
      "outputs": [
        {
          "output_type": "stream",
          "name": "stdout",
          "text": [
            "Insira o seu salrio: 10000\n",
            "11000.0\n"
          ]
        }
      ]
    },
    {
      "cell_type": "markdown",
      "metadata": {
        "id": "inPGbmBaMe3R"
      },
      "source": [
        "###2. Faça um algoritmo que leia o nome e a idade de uma pessoa, verifique se a idade de uma pessoa é menor ou maior de idade. Considera-se maior de idade uma pessoa com 18 anos ou mais. Como saída o algoritmo deve informar o nome e a idade da pessoa e depois uma mensagem se ela é ou não maior de idade.\n"
      ]
    },
    {
      "cell_type": "code",
      "metadata": {
        "id": "XxrUc9yWND8a",
        "colab": {
          "base_uri": "https://localhost:8080/"
        },
        "outputId": "9d507cb2-20ac-4bd2-d41c-ac7ec2f195d7"
      },
      "source": [
        "nome = input('Insira o seu nome aqui: ')\n",
        "idade = int(input('Insira a sua idade: '))\n",
        "\n",
        "if idade >= 18:\n",
        "    print(nome,'tem maioridade')\n",
        "else:\n",
        "    print(nome,'não possui maior idade')"
      ],
      "execution_count": null,
      "outputs": [
        {
          "output_type": "stream",
          "name": "stdout",
          "text": [
            "insira o seu nome auqi: yago\n",
            "Insira a sua idade: 17\n",
            "yago não possui maior idade\n"
          ]
        }
      ]
    },
    {
      "cell_type": "markdown",
      "source": [
        "###3.a) Faça um algoritmo que leia duas notas de um aluno, calcule a média e verifique, apresentando, se está aprovado ou reprovado."
      ],
      "metadata": {
        "id": "m6_s-6CeXRgm"
      }
    },
    {
      "cell_type": "code",
      "source": [
        "nota = float(input('Insira sua primeira nota: '))\n",
        "nota2 = float(input('Insira sua segunda nota: '))\n",
        "\n",
        "media = (nota + nota2) / 2\n",
        "\n",
        "if media >= 6:\n",
        "    print('Aluno aprovado')\n",
        "else:\n",
        "    print('Aluno reprovado')"
      ],
      "metadata": {
        "id": "zHYYE1H3X1Ug",
        "colab": {
          "base_uri": "https://localhost:8080/"
        },
        "outputId": "9237799a-385b-4273-a296-4eb0e5464ead"
      },
      "execution_count": null,
      "outputs": [
        {
          "output_type": "stream",
          "name": "stdout",
          "text": [
            "insira sua nota: 2\n",
            "insira sua nota: 5\n",
            "Aluno reprovado\n"
          ]
        }
      ]
    },
    {
      "cell_type": "markdown",
      "source": [
        "###3.b) Faça um algoritmo que calcule e apresente o que foi requerido no exercício 3.a) e também avalie a condição de aprovar/reprovar, apenas quando o aluno tem frequencia acima de 75%, este valor deve ser lido."
      ],
      "metadata": {
        "id": "FDxDc_2RX7vf"
      }
    },
    {
      "cell_type": "code",
      "source": [
        "nota = float(input('Insira sua primeira nota: '))\n",
        "nota2 = float(input('Insira sua segunda nota: '))\n",
        "freq = int(input('Insira sua frequencia: '))\n",
        "\n",
        "media = (nota + nota2) / 2\n",
        "\n",
        "if media >= 6 and freq >= 75:\n",
        "    print('Aluno aprovado')\n",
        "else:\n",
        "    print('Aluno reprovado')"
      ],
      "metadata": {
        "id": "IUOPeeExYide",
        "colab": {
          "base_uri": "https://localhost:8080/"
        },
        "outputId": "b1e73ba6-d6b7-40a9-8d07-5c71b09bd2db"
      },
      "execution_count": null,
      "outputs": [
        {
          "output_type": "stream",
          "name": "stdout",
          "text": [
            "insira sua nota: 8\n",
            "insira sua nota: 6\n",
            "Insira sua frequencia: 74\n",
            "Aluno reprovado\n"
          ]
        }
      ]
    },
    {
      "cell_type": "markdown",
      "source": [
        "###4. Faça um algoritmo que leia o gênero de uma pessoa. Se for digitado M ou F, apresentar 'Gênero válido!'. Caso contrário, 'Gênero inválido!'."
      ],
      "metadata": {
        "id": "zi3sycu6Y8hH"
      }
    },
    {
      "cell_type": "code",
      "source": [
        "genero = input('Insira seu gênero: ')\n",
        "\n",
        "if genero == 'M' or 'm' or 'F' or 'f':\n",
        "    print('Gênero válido!')\n",
        "else:\n",
        "    print('Gênero inválido')\n"
      ],
      "metadata": {
        "id": "Aa7k7IoAY89K",
        "colab": {
          "base_uri": "https://localhost:8080/"
        },
        "outputId": "2adec470-f9c9-4b55-f0ef-41914ff99848"
      },
      "execution_count": null,
      "outputs": [
        {
          "output_type": "stream",
          "name": "stdout",
          "text": [
            "Insira seu genero: f\n",
            "Genero valido!\n"
          ]
        }
      ]
    },
    {
      "cell_type": "markdown",
      "metadata": {
        "id": "mWl0IWlJNEtA"
      },
      "source": [
        "###5. Tendo como dados de entrada a altura e o gênero (M/F) de uma pessoa (M-masculino ou F-feminino), construa um algoritmo que calcule seu peso ideal, utilizando as seguintes fórmulas:\n",
        "masculino: (72.7 * altura) - 58;\n",
        "\n",
        "feminino: (62.1 * altura) - 44.7\n",
        "\n"
      ]
    },
    {
      "cell_type": "code",
      "source": [
        "genero = input('Insira seu gênero: ')\n",
        "altura = float(input('Insira sua altura'))\n",
        "\n",
        "masculino = (72.7 * altura) - 58\n",
        "feminino = (62.1 * altura) - 44.7\n",
        "\n",
        "m = 'm' or 'M'\n",
        "f = 'f' or 'F'\n",
        "\n",
        "if genero == m:\n",
        "    print('{:.2f}'.format(masculino))\n",
        "else:\n",
        "    print('{:.2f}'.format(feminino))\n"
      ],
      "metadata": {
        "id": "iEeypQ0n7f_S",
        "colab": {
          "base_uri": "https://localhost:8080/"
        },
        "outputId": "b787b8c3-03ea-4841-bee2-acd58285a65a"
      },
      "execution_count": null,
      "outputs": [
        {
          "output_type": "stream",
          "name": "stdout",
          "text": [
            "Insira seu genero: f\n",
            "Insira sua altura1.98\n",
            "78.26\n"
          ]
        }
      ]
    },
    {
      "cell_type": "markdown",
      "source": [
        "###6. Faça um algoritmo que leia dois números inteiros e mostre o resultado da **diferença** do maior valor pelo menor."
      ],
      "metadata": {
        "id": "7QnlOyxxaAZc"
      }
    },
    {
      "cell_type": "code",
      "source": [
        "n1 = int(input('Insira o primeiro número aqui: '))\n",
        "n2 = int(input('Insira o segundo número aqui: '))\n",
        "\n",
        "if n1 > n2:\n",
        "    print(f'A diferença é: {n1 - n2}')\n",
        "else:\n",
        "    print(f'A diferença é: {n2 - n1}')\n"
      ],
      "metadata": {
        "id": "8Eu5pLm5Z-Y7",
        "colab": {
          "base_uri": "https://localhost:8080/"
        },
        "outputId": "4e2dcf63-88fd-4ad1-e223-6205f4fa8dce"
      },
      "execution_count": null,
      "outputs": [
        {
          "output_type": "stream",
          "name": "stdout",
          "text": [
            "insira o numero aqui: 7\n",
            "insira o numero aqui: 3\n",
            "A diferença é: 4\n"
          ]
        }
      ]
    },
    {
      "cell_type": "markdown",
      "source": [
        "###7. Uma faculdade faz o pagamento de seus professores por hora/aula. Faça um algoritmo que receba o nível e a quantidade de hora/aula, calcule e exiba o salário de um professor e a frase a seguira tabela abaixo:\n",
        "Professor Nível 1 - 11,00 reais por hora/aula, salário: ...\n",
        "\n",
        "Professor Nível 2 - 15,00 reais por hora/aula, salário: ...\n",
        "\n",
        "Professor Nível 3 - 19,00 reais por hora/aula, salário: ..."
      ],
      "metadata": {
        "id": "VupgaQwwagfI"
      }
    },
    {
      "cell_type": "code",
      "metadata": {
        "id": "Q8ZKZyGLNxFf",
        "colab": {
          "base_uri": "https://localhost:8080/"
        },
        "outputId": "0fade5c4-f906-41f4-f680-ed4bc6b21c30"
      },
      "source": [
        "nivel = int(input('Insira o nível do professor: '))\n",
        "qtde_horas = int(input('Insira o número de horas/aulas: '))\n",
        "\n",
        "if nivel == 1:\n",
        "    print(f'O professor deve receber: {11 * qtde_horas} Reais')\n",
        "elif nivel == 2:\n",
        "    print(f'O professor deve receber: {15 * qtde_horas} Reais')\n",
        "elif nivel == 3:\n",
        "    print(f'O professor deve receber: {19 * qtde_horas} Reais')\n"
      ],
      "execution_count": null,
      "outputs": [
        {
          "output_type": "stream",
          "name": "stdout",
          "text": [
            "Insira o nivel do professor: 2\n",
            "Insira o numero de horas/aulas: 10\n",
            "O professor deve receber: 150\n"
          ]
        }
      ]
    },
    {
      "cell_type": "markdown",
      "metadata": {
        "id": "ZG-AZwwLN4Vf"
      },
      "source": [
        "###8. Faça um algoritmo que leia um número inteiro e mostre uma mensagem indicando se este número é par ou ímpar e se é positivo ou negativo.\n"
      ]
    },
    {
      "cell_type": "code",
      "metadata": {
        "id": "t4jNff-_N9xR",
        "colab": {
          "base_uri": "https://localhost:8080/"
        },
        "outputId": "ed70d260-11e0-4d8c-93a7-f77fa065a7b7"
      },
      "source": [
        "numero = int(input('Insira o número: '))\n",
        "\n",
        "if numero % 2 == 0:\n",
        "    print('O número é par!')\n",
        "else:\n",
        "    print('O número é impar!')\n"
      ],
      "execution_count": null,
      "outputs": [
        {
          "output_type": "stream",
          "name": "stdout",
          "text": [
            "insira o numero: 7\n",
            "O numero é impar!\n"
          ]
        }
      ]
    },
    {
      "cell_type": "markdown",
      "source": [
        "###9. Num determinado Estado, para transferências de veículos, o DETRAN cobra uma taxa de 1% para carros fabricados antes de 1990 e uma taxa de 1.5% para os fabricados de 1990 em diante, taxa esta incidindo sobre o valor de tabela do carro. Faça um algoritmo que leia o ano e o preço do carro, calcule e apresente o imposto a ser pago."
      ],
      "metadata": {
        "id": "4CVm6Oa5eNTp"
      }
    },
    {
      "cell_type": "code",
      "source": [
        "anoFabricado = int(input('Insira o ano: '))\n",
        "preco = float(input('Insira o preço do carro: '))\n",
        "\n",
        "if anoFabricado < 1990:\n",
        "    print(f'O valor a ser pago é: {(preco * 1) / 100}')\n",
        "else:\n",
        "    print(f'O valor a ser pago é: {(preco * 1.5) / 100}')\n"
      ],
      "metadata": {
        "id": "ys1x7SuegHK1",
        "colab": {
          "base_uri": "https://localhost:8080/"
        },
        "outputId": "bf224b1f-f198-4565-e75f-07eccf3e38af"
      },
      "execution_count": null,
      "outputs": [
        {
          "output_type": "stream",
          "name": "stdout",
          "text": [
            "insira o ano: 1980\n",
            "Insira o preço do carro: 100\n",
            "O valor a ser pago é: 1.0\n"
          ]
        }
      ]
    },
    {
      "cell_type": "markdown",
      "metadata": {
        "id": "tFR9qp3gN999"
      },
      "source": [
        "###10. Elabore um algoritmo que informando a idade de um nadador o mesmo terá condições de classificar em uma das seguintes categorias: \n",
        "infantil = 5 - 10 anos;\n",
        " \n",
        "juvenil = 11-17 anos; \n",
        "\n",
        "adulto = maiores de 18 anos.\n",
        "\n"
      ]
    },
    {
      "cell_type": "code",
      "metadata": {
        "id": "ECh55bXTOUN3"
      },
      "source": [
        "idade = int(input('Insira a idade do nadador: '))\n",
        "\n",
        "if idade >= 5 and idade <= 10:\n",
        "    print('O nadador está na categoria infantil!')\n",
        "elif idade >= 11 and idade <= 17:\n",
        "        print('O nadador está na categoria juvenil!')\n",
        "else:\n",
        "    print('O nadador esta na categoria adulto!')"
      ],
      "execution_count": null,
      "outputs": []
    },
    {
      "cell_type": "markdown",
      "metadata": {
        "id": "pWT4E1FfOUkH"
      },
      "source": [
        "###11. Um banco concederá um crédito especial aos seus clientes, variável com o saldo médio no último ano. Faça um algoritmo que leia o saldo médio de um cliente e calcule o valor do crédito de acordo com a tabela a seguir. Mostre uma mensagem informando o saldo médio e o valor do crédito.\n",
        "        Saldo médio\n",
        "        * de 0 a 200 nenhum crédito\n",
        "        * de 201 a  400 20% do valor do saldo médio\n",
        "        * de 401 a  600 30% do valor do saldo médio\n",
        "        * acima de 601 40% do valor do saldo médio\n"
      ]
    },
    {
      "cell_type": "code",
      "metadata": {
        "id": "bjndIJmMP2--",
        "colab": {
          "base_uri": "https://localhost:8080/"
        },
        "outputId": "4496b880-b732-469b-bdd6-12a9a2583d3c"
      },
      "source": [
        "saldoMedio = float(input('Insira seu saldo medio: '))\n",
        "\n",
        "if saldoMedio >= 0 and saldoMedio <= 200:\n",
        "    print('Seu salario é de: R$',saldoMedio,' e não possui nenhum crédito')\n",
        "\n",
        "elif saldoMedio >= 201 and saldoMedio <= 400:\n",
        "    print('Seu salario é de: R$',saldoMedio,f'Valor do crédito: R$ {(saldoMedio * 20) / 100}')\n",
        "\n",
        "elif saldoMedio >= 401 and saldoMedio <= 600:\n",
        "    print('Seu salario é de: R$',saldoMedio,f'Valor do crédito: R$ {(saldoMedio * 30) / 100}')\n",
        "\n",
        "else:\n",
        "    print('Seu salario é de: R$',saldoMedio,f'Valor do crédito: R$ {(saldoMedio * 40) / 100}')"
      ],
      "execution_count": null,
      "outputs": [
        {
          "output_type": "stream",
          "name": "stdout",
          "text": [
            "Insira seu salario medio: 700\n",
            "Seu salario é de: R$ 700.0 Valor do crédito: R$ 280.0\n"
          ]
        }
      ]
    },
    {
      "cell_type": "markdown",
      "metadata": {
        "id": "4NQ1BgrnQCJ4"
      },
      "source": [
        "###12. A Organização Mundial de Saúde usa a seguinte tabela para determinar a condição de um adulto, para isso desenvolva um algoritmo para calcular o Índice de Massa Corporal (IMC) e apresenta-lo, dado pela fórmula: \n",
        "    IMC = peso / (altura)2   (o número 2 significa, elevado ao quadrado)\n",
        "\n",
        "CONDIÇÃO |  IMC em adultos |\n",
        " ---|---\n",
        "Abaixo do peso  |\tAbaixo de 18.5  |\n",
        "No peso normal\t|\tEntre 18.5 e 25|\n",
        "Acima do peso\t|\tEntre 25.1 e 30|\n",
        "Obeso\t\t    |\tAcima de 30|"
      ]
    },
    {
      "cell_type": "code",
      "metadata": {
        "id": "s7C4mls6TT90",
        "colab": {
          "base_uri": "https://localhost:8080/"
        },
        "outputId": "63424c04-b512-453f-b1b8-c6a876f0ee9d"
      },
      "source": [
        "peso = float(input('Insira o peso: '))\n",
        "altura = float(input('Insira a altura: '))\n",
        "\n",
        "imc = peso / altura ** 2 \n",
        "\n",
        "if imc < 18.5:\n",
        "    print('Abaixo do peso')\n",
        "elif imc >= 18.5 and imc <= 25:\n",
        "    print('No peso normal')\n",
        "elif imc >= 25.1 and imc <= 30:\n",
        "    print('Acima do peso')\n",
        "else: \n",
        "    print('Obeso')"
      ],
      "execution_count": null,
      "outputs": [
        {
          "output_type": "stream",
          "name": "stdout",
          "text": [
            "insira o peso: 70\n",
            "insira a altura: 1.80\n",
            "No peso normal\n"
          ]
        }
      ]
    },
    {
      "cell_type": "markdown",
      "metadata": {
        "id": "-Lj_vtkDwhfJ"
      },
      "source": [
        "###13. A nota final de um estudante é calculada a partir de três notas atribuídas, respectivamente, a um trabalho de laboratório, a uma avaliação semestral e a um exame final. A média das três notas mencionadas obedece aos pesos a seguir:\n",
        "\n",
        " NOTA |  PESO |\n",
        " ---|---\n",
        "Trabalho de laboratório  |   2   |\n",
        "Avaliação semestral      |   3   |\n",
        "Exame final              |   5   |\n",
        "\n",
        "### Faça um programa que receba as três notas, calcule e mostre a média ponderada e o conceito que segue a tabela\n",
        "\n",
        "MÉDIA PONDERADA    | CONCEITO|\n",
        "---|---\n",
        "8,0 <= média <= 10  |    A \n",
        "7,0 <= média < 8,0  |    B \n",
        "6,0 <= média < 7,0  |    C \n",
        "5,0 <= média < 6,0  |    D \n",
        " 0,0 <= média < 5,0  |    E\n",
        "       \n",
        "media_ponderada = (nota_traballho * 2 + avaliacao_semestral * 3 + exame_final * 5) / 10\n",
        "\n"
      ]
    },
    {
      "cell_type": "code",
      "metadata": {
        "id": "fhlh7OxNwDhl",
        "colab": {
          "base_uri": "https://localhost:8080/"
        },
        "outputId": "6a3f79c7-825d-4641-9ca8-200ac7a3688a"
      },
      "source": [
        "laboratorio = float(input('Insira a nota de laboratório aqui: '))\n",
        "avaliacao = float(input('Insira a nota da avaliação aqui: '))\n",
        "exame = float(input('Insira a nota do exame aqui: '))\n",
        "\n",
        "mediaPonderada = (laboratorio * 2 + avaliacao * 3 + exame * 5) / 10\n",
        "\n",
        "if mediaPonderada >= 8 and mediaPonderada <= 10:\n",
        "    print('Obteve o conceito: A')\n",
        "elif mediaPonderada >= 7 and mediaPonderada < 8:\n",
        "    print('Obteve o conceito: B')\n",
        "elif mediaPonderada >= 6 and mediaPonderada < 7:\n",
        "    print('Obteve o conceito: C')\n",
        "elif mediaPonderada >= 5 and mediaPonderada < 6:\n",
        "    print('Obteve o conceito: D') \n",
        "elif mediaPonderada >= 0 and mediaPonderada < 5:\n",
        "    print('Obteve o conceito: E')"
      ],
      "execution_count": null,
      "outputs": [
        {
          "output_type": "stream",
          "name": "stdout",
          "text": [
            "insira a nota aqui: 8\n",
            "Insira a nota aqui: 5\n",
            "Insira a nota aqui: 6\n",
            "Obteve o conceito: C\n"
          ]
        }
      ]
    },
    {
      "cell_type": "markdown",
      "metadata": {
        "id": "PAaDySD4wkK_"
      },
      "source": [
        "### 14. Faça um programa que receba três notas de um aluno, calcule e mostre a média aritmética e a mensagem constante na tabela a seguir. Aos alunos que ficaram para exame, calcule e mostre a nota que deverão tirar para serem aprovados, considerando que a média exigida é 6,0.\n",
        "\n",
        "MÉDIA ARITMÉTICA | MENSAGEM\n",
        "    ---|---\n",
        "    0 <= média < 3 |Reprovado\n",
        "    3 <= média < 6|Exame\n",
        "    6 <= média <= 10|Aprovado\n",
        "\n",
        "```\n",
        "SE media >= 3 E media < 6\n",
        "    ESCREVA “Exame”\n",
        "    nota_exame = 12 - media\n",
        "    ESCREVA “Você deve tirar a nota”, nota_exame, “para ser aprovado.”\n"
      ]
    },
    {
      "cell_type": "code",
      "metadata": {
        "id": "y1Wfq8tzwm06",
        "colab": {
          "base_uri": "https://localhost:8080/"
        },
        "outputId": "fceb2dd1-4088-43c3-a8a2-da7ce1124ecb"
      },
      "source": [
        "nota1 = float(input('Insira a primeira nota: '))\n",
        "nota2 = float(input('Insira a segunda nota: '))\n",
        "nota3 = float(input('Insira a terceira nota: '))\n",
        "\n",
        "media = (nota1 + nota2 + nota3) / 3\n",
        "\n",
        "if media >= 0 and media < 3:\n",
        "    print('Reprovado')\n",
        "elif media >= 3 and media < 6:\n",
        "    print('Exame')\n",
        "    nota_exame = 12 - media\n",
        "    print('Voce deve tirar a nota',nota_exame,'para ser aprovado')\n",
        "elif media >= 6 and media < 10:\n",
        "    print('Aprovado')"
      ],
      "execution_count": null,
      "outputs": [
        {
          "output_type": "stream",
          "name": "stdout",
          "text": [
            "Insira a nota: 4\n",
            "Insira a nota: 4\n",
            "Insira a nota: 4\n",
            "Exame\n",
            "Voce deve tirar a nota 8.0 para ser aprovado\n"
          ]
        }
      ]
    },
    {
      "cell_type": "markdown",
      "metadata": {
        "id": "7O0Mqmidwm-j"
      },
      "source": [
        "### 15. Faça um programa que receba dois números e mostre o maior.\n"
      ]
    },
    {
      "cell_type": "code",
      "metadata": {
        "id": "HcTiyc7GwpKM",
        "colab": {
          "base_uri": "https://localhost:8080/"
        },
        "outputId": "d0539eb6-8774-4f77-b4c2-26adbcff6bbc"
      },
      "source": [
        "n1 = int(input('Insira o primeiro número: '))\n",
        "n2 = int(input('Insira o segundo número: '))\n",
        "\n",
        "if n1 > n2:\n",
        "    print(n1)\n",
        "else:\n",
        "    print(n2)"
      ],
      "execution_count": null,
      "outputs": [
        {
          "output_type": "stream",
          "name": "stdout",
          "text": [
            "Insira o primeiro número: 5\n",
            "Insira o segundo número: 2\n",
            "5\n"
          ]
        }
      ]
    },
    {
      "cell_type": "markdown",
      "metadata": {
        "id": "2_NBZeVXwpTd"
      },
      "source": [
        "### 16. Faça um programa que receba três números e mostre-os em ordem crescente. Suponha que o usuário digitará três números diferentes.\n",
        "\n",
        "```\n",
        "SE numero1 < numero2 E numero1 < numero3\n",
        "    SE numero2 < numero3\n",
        "        ESCREVA “A ordem crescente é: “,numero1,“-”,numero2,“-”,numero3\n",
        "    SENÃO\n",
        "        ESCREVA “A ordem crescente é: “,numero1,“-”,numero3,“-”,numero2\n",
        "SE numero2 < numero1 E numero2 < numero3\n",
        "    SE numero1 < numero3\n",
        "        ESCREVA “A ordem crescente é: “,numero2,“-”,numero1,“-”,numero3\n",
        "    SENÃO\n",
        "        ESCREVA “A ordem crescente é: “,numero2,“-”,numero3,“-”,numero1\n",
        "SE numero3 < numero1 E numero3 < num2\n",
        "    SE numero1 < numero2\n",
        "        ESCREVA “A ordem crescente é: “,numero3,“-”,numero1,“-”,numero2\n",
        "    SENÃO \n",
        "        ESCREVA “A ordem crescente é: “,numero3,“-”,numero2,“-”,numero1\n",
        "  ```"
      ]
    },
    {
      "cell_type": "code",
      "metadata": {
        "id": "Ek3oVh59wsJJ",
        "colab": {
          "base_uri": "https://localhost:8080/"
        },
        "outputId": "2fbbd0d2-38a3-4126-9438-bc45ec4b99e4"
      },
      "source": [
        "n1 = int(input('Insira o primeiro número: '))\n",
        "n2 = int(input('Insira o segundo número: '))\n",
        "n3 = int(input('Insira o terceiro número: '))\n",
        "\n",
        "if n1 < n2 and n1 < n3:\n",
        "    if n2 < n3:\n",
        "        print('A ordem é: ',n1,'=',n2,'-',n3)\n",
        "    else:\n",
        "        print('A ordem crescente é: ',n1,'-',n2,'-',n3)\n",
        "if n2 < n1 and n2 < n3:\n",
        "    if n2 < n1 and n2 < n3:\n",
        "        print('A ordem é: ',n2,'-',n1,'-',n3)\n",
        "    else:\n",
        "        print('A ordem é: ',n2,'-',n3,'-',n1)\n",
        "if n3 < n1 and n3 < n2:\n",
        "    if n1 < n2:\n",
        "        print('A ordem é: ',n3,'-',n1,'-',n2)\n",
        "    else:\n",
        "        print('A ordem é: ',n3,'-',n2,'-',n1)"
      ],
      "execution_count": null,
      "outputs": [
        {
          "output_type": "stream",
          "name": "stdout",
          "text": [
            "Insira o primeiro número: 7\n",
            "Insira o segundo número: 8\n",
            "Insira o terceiro número: 2\n",
            "A ordem é:  2 - 7 - 8\n"
          ]
        }
      ]
    },
    {
      "cell_type": "markdown",
      "metadata": {
        "id": "ZhHFeeuKwsS_"
      },
      "source": [
        "### 17. Faça um programa que receba três números obrigatoriamente em ordem crescente e um quarto número que não siga essa regra. Mostre, em seguida, os quatro números em ordem decrescente. Suponha que o usuário digitará quatro números diferentes.\n",
        "\n",
        "```code\n",
        "SE numero4 > numero3\n",
        "    ESCREVA “A ordem decrescente é: “,numero4,“-”,numero3,“-”,numero2,“-”,numero1\n",
        "SENÃO SE numero4 > numero2 E numero4 < numero3\n",
        "    ESCREVA “A ordem decrescente é: “,numero3,“-”,numero4,“-”,numero2,“-”,numero1\n",
        "SENÃO SE numero4 > numero1 E numero4 < numero2\n",
        "    ESCREVA “A ordem decrescente é: “,numero3,“-”,numero2,“-”,numero4, “-”,numero1\n",
        "SENÃO SE numero4 < numero1\n",
        "    ESCREVA “A ordem decrescente é: “,numero3,“-”,numero2,“-”,numero1,“-”,numero4\n",
        "```"
      ]
    },
    {
      "cell_type": "code",
      "metadata": {
        "id": "MXb2lDpTwukn",
        "colab": {
          "base_uri": "https://localhost:8080/"
        },
        "outputId": "c70e4f7f-1f15-467b-d00a-569d7fd9eeeb"
      },
      "source": [
        "n1 = int(input('Insira aqui o primeiro numero: '))\n",
        "n2 = int(input('Insira aqui o segundo numero: '))\n",
        "n3 = int(input('Insira aqui o terceiro numero: '))\n",
        "n4 = int(input('Insira aqui o quarto numero: '))\n",
        "\n",
        "if n4 > n3:\n",
        "    print('A ordem decrescente é ',n4,'-',n3,'-',n2,'-',n1)\n",
        "elif n4 > n2 and n4 < n3:\n",
        "    print('A ordem descrescente é: ',n3,'-',n4,'-',n2,'-',n1)\n",
        "elif n4 > n1 and n4 < n2 :\n",
        "    print('A ordem decrescente é: ',n3,'-',n2,'-',n4,'-',n1)\n",
        "elif n4 < n1:  \n",
        "    print('A ordem decrescente é: ',n3,'-',n2,'-',n1,'-',n4)  "
      ],
      "execution_count": null,
      "outputs": [
        {
          "output_type": "stream",
          "name": "stdout",
          "text": [
            "Insira aqui o primeiro numero: 1\n",
            "Insira aqui o segundo numero: 2\n",
            "Insira aqui o terceiro numero: 3\n",
            "Insira aqui o quarto numero: 4\n",
            "A ordem decrescente é  4 - 3 - 2 - 1\n"
          ]
        }
      ]
    },
    {
      "cell_type": "markdown",
      "metadata": {
        "id": "U6uFBqEEwxTU"
      },
      "source": [
        "### 18. Faça um programa que receba quatro valores: I, A, B e C. Desses valores, I é inteiro e positivo, A, B e C são reais. Escreva os números A, B e C obedecendo à tabela a seguir.\n",
        "\n",
        "*Suponha que o valor digitado para I seja sempre um valor válido, ou seja, 1, 2 ou 3, e que os números digitados sejam diferentes um do outro.*\n",
        "\n",
        "  |VALOR DE I | FORMA A ESCREVER|\n",
        "  |---|---|\n",
        "  |1                  |A, B e C em ordem crescente.|\n",
        "  |2                  |A, B e C em ordem decrescente|\n",
        "  |3                  |O maior fica entre os outros dois números.|\n",
        "\n",
        "  ```code\n",
        "SE I == 1\n",
        "    SE A<B E A<C\n",
        "        SE B<C\n",
        "            ESCREVA “A ordem crescente dos números é:”,A,” -”,B,”-”,C\n",
        "        SENÃO\n",
        "            ESCREVA “A ordem crescente dos números é:”,A,” -”,C,”-”,B\n",
        "    SE B<A E B<C\n",
        "        SE A<C\n",
        "            ESCREVA “A ordem crescente dos números é:”,B,”-”,A,”-”,C\n",
        "        SENÃO\n",
        "            ESCREVA “A ordem crescente dos números é: “,B,”-”,C,”-”,A\n",
        "    SE C<A E C<B\n",
        "        SE A<B\n",
        "            ESCREVA “A ordem crescente dos números é: “,C,”-”,A,”-”,B\n",
        "        SENÃO\n",
        "            ESCREVA “A ordem crescente dos números é: “,C,”-”,B,”-”,A\n",
        "SE I == 2\n",
        "    SE A>B E A>C\n",
        "        SE B>C\n",
        "            ESCREVA “A ordem decrescente dos números é: “,A,” -”,B,”-”,C\n",
        "        SENÃO\n",
        "            ESCREVA “A ordem decrescente dos números é: “,A,” -”,C,”-”,B\n",
        "    SE B>A E B>C\n",
        "        SE A>C\n",
        "            ESCREVA “A ordem decrescente dos números é: “,B,” -”,A,”-”,C\n",
        "        SENÃO\n",
        "            ESCREVA “A ordem decrescente dos números é: “,B,” -”,C,”-”,A\n",
        "    SE C>A E C>B\n",
        "        SE A>B\n",
        "            ESCREVA “A ordem decrescente dos números é: “,C,” -”,A,”-”,B\n",
        "        SENÃO\n",
        "            ESCREVA “A ordem decrescente dos números é: “,C,” -”,B,”-”,A\n",
        "SE I == 3\n",
        "    SE A>B E A>C\n",
        "        ESCREVA “A ordem desejada é: “,B,”-”,A,”-”,C\n",
        "    SE B>A E B>C\n",
        "        ESCREVA “A ordem desejada é: “,A,”-”,B,”-”,C\n",
        "    SE C>A E C>B\n",
        "        ESCREVA “A ordem desejada é: “,A,”-”,C,”-”,B\n",
        "```"
      ]
    },
    {
      "cell_type": "code",
      "metadata": {
        "id": "xComTuz4w2uW",
        "colab": {
          "base_uri": "https://localhost:8080/"
        },
        "outputId": "9ec3b8fe-ad5f-4c43-c7c0-ceca794664bf"
      },
      "source": [
        "I = int(input('Insira aqui o numero: '))\n",
        "A = float(input('Insira aqui o numero: '))\n",
        "B = float(input('Insira aqui o numero: '))\n",
        "C = float(input('Insira aqui o numero: '))\n",
        "\n",
        "if I == 1:\n",
        "    if A<B and A<C:\n",
        "        if B<C:\n",
        "            print('A ordem crescente dos números é:',A ,'-',B,'-',C,)\n",
        "        else:\n",
        "            print('A ordem crescente dos números é:',A,'' -'',C,'-',B)\n",
        "    if B<A and B<C:\n",
        "        if A<C:\n",
        "            print('A ordem crescente dos números é:',B,'-',A,'-',C)\n",
        "        else:\n",
        "            print('A ordem crescente dos números é: ',B,'-',C,'-',A) \n",
        "    if C<A and C<B:\n",
        "        if A<B:\n",
        "            print('A ordem crescente dos números é: ',C,'-',A,'-',B) \n",
        "        else:\n",
        "            print('A ordem crescente dos números é: ',C,'-',B,'-',A)\n",
        "if I == 2:\n",
        "    if A>B and A>C:\n",
        "        if B>C:\n",
        "            print('A ordem decrescente dos números é: ',A,'-',B,'-',C)\n",
        "        else:\n",
        "            print('A ordem decrescente dos números é: ',A,'' -'',C,'-',B)\n",
        "    if B>A and B>C:\n",
        "        if A>C:\n",
        "            print('A ordem decrescente dos números é: ',B,'' -'',A,'-',C)\n",
        "        else:\n",
        "            print('A ordem decrescente dos números é: ',B,'' -'',C,'-',A)\n",
        "    if C>A and C>B:\n",
        "        if A>B:\n",
        "            print('A ordem decrescente dos números é: ',C,' -',A,'-',B)\n",
        "        else:\n",
        "            print('A ordem decrescente dos números é: ',C,' -',B,'-',A)\n",
        "if I == 3:\n",
        "    if A>B and A>C:\n",
        "        print('A ordem desejada é: ',B,'-',A,'-',C)\n",
        "    if B>A and B>C:\n",
        "        print('A ordem desejada é: ',A,'-',B,'-',C)\n",
        "    if C>A and C>B:\n",
        "        print('A ordem desejada é: ',A,'-',C,'-',B) "
      ],
      "execution_count": null,
      "outputs": [
        {
          "output_type": "stream",
          "name": "stdout",
          "text": [
            "Insira aqui o numero: 1\n",
            "Insira aqui o numero: 2\n",
            "Insira aqui o numero: 3\n",
            "Insira aqui o numero: 4\n",
            "A ordem crescente dos números é: 2.0 - 3.0 - 4.0\n"
          ]
        }
      ]
    },
    {
      "cell_type": "markdown",
      "metadata": {
        "id": "uN4h6-qFw22p"
      },
      "source": [
        "### 19. Faça um programa que mostre o menu de opções a seguir, receba a opção do usuário, número 1 para a escolha da soma, ou número 2 para a raiz quadrada, também receba os dados necessários para executar cada operação.\n",
        "\n",
        "    Menu de opções:\n",
        "    1. Somar dois números.\n",
        "    2. Raiz quadrada de um número.\n",
        "\n",
        "Observação: raiz = numero ** (1/2), ou \n",
        "import math\n",
        "raiz = math.sqrt(numero), assim como foi programado no exercício 18, da lista anterior.\n",
        "      "
      ]
    },
    {
      "cell_type": "code",
      "metadata": {
        "id": "8otY1f_ow5Sy",
        "colab": {
          "base_uri": "https://localhost:8080/"
        },
        "outputId": "f2734c2c-0d18-4de5-cba0-5761bdcace71"
      },
      "source": [
        "# raiz = num3 ** (1/2)\n",
        "print('Menu de Opções:\\n1. Somar dois números. \\n2. Raiz Quadrada de um número. ')\n",
        "opcao = int(input('Insira 1 ou 2: '))\n",
        "if opcao == 1:\n",
        "    n1 = int(input('Insira um número: '))\n",
        "    n2 = int(input('Insira outro número: '))\n",
        "    soma = n1 + n2\n",
        "    print('O resultado da soma é: ',soma)\n",
        "elif opcao == 2: \n",
        "    n3: int(input('Insira um número: '))\n",
        "    raiz = n3 ** 0.5\n",
        "    print('O resultado é: ',raiz)"
      ],
      "execution_count": null,
      "outputs": [
        {
          "output_type": "stream",
          "name": "stdout",
          "text": [
            "Menu de Opções:\n",
            "1. Somar dois números. \n",
            "2. Raiz Quadrada de um número. \n",
            "Insira 1 ou 2: 2\n",
            "Insira um número: 10\n",
            "O resultado é:  1.7320508075688772\n"
          ]
        }
      ]
    },
    {
      "cell_type": "markdown",
      "metadata": {
        "id": "xVYTUU1Qw5b0"
      },
      "source": [
        "### 20. Faça um programa que mostre a data e a hora do sistema nos seguintes formatos: **dia/mês/ano – mês por extenso e hora:minuto**.\n",
        "\n",
        "Observação: ***from*** carrega um módulo/biblioteca da linguagem Python e o ***import*** é usado para informar qual objeto desta biblioteca queremos importar/carregar no nosso programa\n",
        "\n",
        "    from datetime import datetime\n",
        "    #Este comando obtem a data e hora de hoje de algum país onde esta o servidor que executa nosso programa em Python.\n",
        "    #Quando eu testei, o servidor era do fuso horário de Dakar-Senegal\n",
        "    hoje = datetime.now()\n",
        "    print ('Ano atual.:',hoje.year)\n",
        "    print ('Mês.......:',hoje.month)\n",
        "    print ('Dia.......:',hoje.day)\n",
        "    print ('Hora......:',hoje.hour)\n",
        "    print ('Minuto....:',hoje.minute)\n",
        "    print ('Segundos..:',hoje.second)"
      ]
    },
    {
      "cell_type": "code",
      "metadata": {
        "id": "e-wpYfvew8A2"
      },
      "source": [
        "from datetime import datetime\n",
        "hoje = datetime.now()\n",
        "print ('Ano atual.:',hoje.year)\n",
        "print ('Mês.......:',hoje.month)\n",
        "print ('Dia.......:',hoje.day)\n",
        "print ('Hora......:',hoje.hour)\n",
        "print ('Minuto....:',hoje.minute)\n",
        "print ('Segundos..:',hoje.second)\n",
        "if hoje.month == 1:\n",
        "    print(hoje.day,'/Janeiro/',hoje.year)\n",
        "# Dê continuidade a programação daqui pra frente"
      ],
      "execution_count": null,
      "outputs": []
    },
    {
      "cell_type": "code",
      "source": [
        "from datetime import datetime\n",
        "hoje = datetime.now()\n",
        "print ('Ano atual.:',hoje.year)\n",
        "print ('Mês.......:',hoje.month)\n",
        "print ('Dia.......:',hoje.day)\n",
        "print ('Hora......:',hoje.hour)\n",
        "print ('Minuto....:',hoje.minute)\n",
        "print ('Segundos..:',hoje.second)\n",
        "if hoje.month == 1:\n",
        "    print(hoje.day,hoje.month,hoje.year)"
      ],
      "metadata": {
        "colab": {
          "base_uri": "https://localhost:8080/"
        },
        "id": "9PTdyMfvO_tI",
        "outputId": "ee94d9ff-9122-4889-a70f-0de4af3b5c4a"
      },
      "execution_count": null,
      "outputs": [
        {
          "output_type": "stream",
          "name": "stdout",
          "text": [
            "UTC - Tempo Universal Coordenado: UTC-03:00\n",
            "Data e horário de São Paulo: 29/08/2022 17:25\n"
          ]
        }
      ]
    },
    {
      "cell_type": "markdown",
      "metadata": {
        "id": "BwvSTMttw8KJ"
      },
      "source": [
        "### 21. Faça um programa que determine a data cronologicamente maior entre duas datas fornecidas pelo usuário. Cada data deve ser composta por três valores inteiros, em que o primeiro representa o dia, o segundo, o mês e o terceiro, o ano.\n",
        "\n",
        "  ```code\n",
        "  SE ano1 > ano2\n",
        "      ESCREVA “A maior data é: “,dia1,”-”,mes1,”-”,ano1\n",
        "  SENÃO SE ano2>ano1\n",
        "      ESCREVA “A maior data é: “,dia2,”-”,mes2,”-”,ano2\n",
        "  SENÃO SE mes1>mes2\n",
        "      ESCREVA “A maior data é: “,dia1,”-”,mes1,”-”,ano1\n",
        "  SENÃO SE mes2>mes1\n",
        "      ESCREVA “A maior data é: “,dia2, “-”,mes2,”-”,ano2\n",
        "  SENÃO SE dia1>dia2\n",
        "      ESCREVA “A maior data é: “-”,dia1,”-”,mia1,” -”,ano1\n",
        "  SENÃO SE dia2>dia1\n",
        "      ESCREVA “A maior data é: “,dia2,” -”,mes2,”-”,ano2\n",
        "  SENÃO\n",
        "      ESCREVA “As datas são iguais!”\n",
        "  ```"
      ]
    },
    {
      "cell_type": "code",
      "metadata": {
        "id": "Ayf2tlS1w-e7",
        "colab": {
          "base_uri": "https://localhost:8080/"
        },
        "outputId": "4bacaf41-c9ba-4e97-b18e-d64b4ac75e07"
      },
      "source": [
        "dia1 = int(input('Insira o ano: '))\n",
        "dia2 = int(input('Insira o ano: '))\n",
        "mes1 = int(input('Insira o ano: '))\n",
        "mes2 = int(input('Insira o ano: '))\n",
        "ano1 = int(input('Insira o ano: '))\n",
        "ano2 = int(input('Insira o ano: '))\n",
        "\n",
        "if ano1 > ano2:\n",
        "    print('A maior dada é: ',dia1,'-',mes1,'-',ano1)\n",
        "elif ano2 > ano1:\n",
        "    print('A maior data é: ',dia2,'-',mes2,'-',ano2)\n",
        "elif mes1 > mes2:\n",
        "    print('A maior data é: ',dia1,'-',mes1,'-',ano1)\n",
        "elif mes2 > mes1:\n",
        "    print('A maior data é: ',dia2,'-',mes2,'-',ano2)\n",
        "elif dia1 > dia2:\n",
        "    print('A maior data é: ',dia1,'-',mes1,'-',ano1)\n",
        "elif dia2 > dia1:\n",
        "    print('A maior data é: ',dia2,'-',mes2,'-',ano2)\n",
        "else: \n",
        "    print('As data são iguais!')"
      ],
      "execution_count": null,
      "outputs": [
        {
          "output_type": "stream",
          "name": "stdout",
          "text": [
            "Insira o ano: 1\n",
            "Insira o ano: 2\n",
            "Insira o ano: 3\n",
            "Insira o ano: 4\n",
            "Insira o ano: 5\n",
            "Insira o ano: 6\n",
            "A maior data é:  2 - 4 - 6\n"
          ]
        }
      ]
    },
    {
      "cell_type": "markdown",
      "metadata": {
        "id": "cWnawYSbw-o9"
      },
      "source": [
        "### 22. Faça um programa que receba a hora do início de um jogo e a hora do término (cada hora é composta por duas variáveis inteiras: hora e minuto). Calcule e mostre a duração do jogo (horas e minutos), sabendo que o tempo máximo de duração do jogo é de 24 horas e que ele pode começar em um dia e terminar no dia seguinte.\n",
        "    SE min_inicial > min_f\n",
        "        minuto_final = minuto_final + 60\n",
        "        hora_final = hora_final – 1\n",
        "    SE hora_inicial > hora_final\n",
        "        hora_final = hora_final + 24\n",
        "    minuto_duracao = minuto_final - minuto_inicial\n",
        "    hora_duracao = hora_final - hora_inicial"
      ]
    },
    {
      "cell_type": "code",
      "metadata": {
        "id": "-Eq9yPDyxAvk",
        "colab": {
          "base_uri": "https://localhost:8080/"
        },
        "outputId": "3ed66ed0-3d82-41eb-9173-838eb43e41be"
      },
      "source": [
        "horaInicial = float(input('Insira a hora de inicio do jogo:  '))\n",
        "minInicial = float(input('Insira o munuto inicial do jogo: '))\n",
        "horaFinal= float(input('Insira a hora final do jogo:  '))\n",
        "minFinal = float(input('Insira o munuto final do jogo: '))\n",
        "\n",
        "if minInicial > minFinal:\n",
        "    minFinal = minFinal + 60\n",
        "    horaFinal = horaFinal - 1\n",
        "if horaInicial > horaFinal:\n",
        "    horaFinal = horaFinal + 24\n",
        "minDuracao = minFinal - minInicial\n",
        "horaDuracao = horaFinal - horaInicial\n",
        "\n",
        "print(horaDuracao,' Horas e ',minDuracao,' Minutos')"
      ],
      "execution_count": null,
      "outputs": [
        {
          "output_type": "stream",
          "name": "stdout",
          "text": [
            "Insira a hora de inicio do jogo:  6\n",
            "Insira o munuto inicial do jogo: 20\n",
            "Insira a hora final do jogo:  5\n",
            "Insira o munuto final do jogo: 30\n",
            "23.0  Horas e  10.0  Minutos\n"
          ]
        }
      ]
    },
    {
      "cell_type": "markdown",
      "metadata": {
        "id": "eT4oGEI9xA42"
      },
      "source": [
        "### 23. Faça um programa que receba o código correspondente ao cargo de um funcionário e seu salário atual e mostre o cargo, o valor do aumento e seu novo salário. Os cargos estão na tabela a seguir.\n",
        "\n",
        "  |CÓDIGO|CARGO|PERCENTUAL|\n",
        "  |---|---|---|\n",
        "  |1|Escriturário|50%|\n",
        "  |2|Secretário|35%|\n",
        "  |3|Caixa|20%|\n",
        "  |4|Gerente|10%|\n",
        "  |5|Diretor|Não tem aumento|\n",
        "\n",
        "```code\n",
        "SE cargo == 1\n",
        "    ESCREVA “O cargo é Escriturário”\n",
        "    aumento = salario * 50 / 100\n",
        "    ESCREVA “O valor do aumento é: “, aumento\n",
        "    novo_sal = salario + aumento\n",
        "    ESCREVA “O novo salário é: “, novo_sal\n",
        "SENÃO SE cargo == 2\n",
        "    ESCREVA “O cargo é Secretário”\n",
        "    aumento = salario * 35 / 100\n",
        "    ESCREVA “O valor do aumento é: “, aumento\n",
        "    novo_sal = salario + aumento\n",
        "    ESCREVA “O novo salário é: “, novo_sal]\n",
        "SENÃO SE cargo == 3\n",
        "    ESCREVA “O cargo é Caixa”\n",
        "    aumento = salario * 20 / 100\n",
        "    ESCREVA “O valor do aumento é: “, aumento\n",
        "    novo_sal = salario + aumento\n",
        "    ESCREVA “O novo salário é: “,novo_sal\n",
        "SENÃO SE cargo == 4\n",
        "    ESCREVA “O cargo é Gerente”\n",
        "    aumento = salario * 10 / 100\n",
        "    ESCREVA “O valor do aumento é: “, aumento\n",
        "    novo_sal = salario + aumento\n",
        "    ESCREVA “O novo salário é: “, novo_sal\n",
        "SENÃO SE cargo == 5\n",
        "    ESCREVA “O cargo é Diretor”\n",
        "    aumento = salario * 0 / 100\n",
        "    ESCREVA “O valor do aumento é: “, aumento\n",
        "    novo_sal = salario + aumento\n",
        "    ESCREVA “O novo salário é: “, novo_sal\n",
        "```"
      ]
    },
    {
      "cell_type": "code",
      "metadata": {
        "id": "Akw301nvxDG0",
        "colab": {
          "base_uri": "https://localhost:8080/"
        },
        "outputId": "f1a91c3c-6cec-4977-cb61-15a57819e3b8"
      },
      "source": [
        "print('Menu de Opções:\\n1. Escrituário. \\n2. Secretário. \\n3. Caixa. \\n4. Gerente. \\n5. Diretor. ')\n",
        "cargo = int(input('Insira o codigo do cargo correspondente: '))\n",
        "salario = float(input('Insira o salário atual:'))\n",
        "\n",
        "if cargo == 1:\n",
        "    print('O cargo é de Escrituário!')\n",
        "    aumento = salario * 50 / 100\n",
        "    print('O valor do aumento é: ',aumento)\n",
        "    novoSalario = salario + aumento\n",
        "    print('Seu novo salário é: ',novoSalario)\n",
        "elif cargo == 2:\n",
        "    print('O cargo é de Secretário!')\n",
        "    aumento = salario * 35 / 100\n",
        "    print('O valor do aumento é: ',aumento)\n",
        "    novoSalario = salario + aumento\n",
        "    print('Seu novo salário é: ',novoSalario)\n",
        "elif cargo == 3:\n",
        "    print('O cargo é de Caixa!')\n",
        "    aumento = salario * 20 / 100\n",
        "    print('O valor do aumento é: ',aumento)\n",
        "    novoSalario = salario + aumento\n",
        "    print('Seu novo salário é: ',novoSalario)\n",
        "elif cargo == 4:\n",
        "    print('O cargo é de Gerente!')\n",
        "    aumento = salario * 10 / 100\n",
        "    print('O valor do aumento é: ',aumento)\n",
        "    novoSalario = salario + aumento\n",
        "    print('Seu novo salário é: ',novoSalario)\n",
        "elif cargo == 5:\n",
        "    print('O cargo é de Diretor!')\n",
        "    aumento = salario * 0 / 100\n",
        "    print('O valor do aumento é: ',aumento)\n",
        "    novoSalario = salario + aumento\n",
        "    print('Seu novo salário é: ',novoSalario)\n",
        "\n",
        "\n"
      ],
      "execution_count": null,
      "outputs": [
        {
          "output_type": "stream",
          "name": "stdout",
          "text": [
            "Menu de Opções:\n",
            "1. Escrituário. \n",
            "2. Secretário. \n",
            "3. Caixa. \n",
            "4. Gerente. \n",
            "5. Diretor. \n",
            "Insira o codigo do cargo correspondente: 1\n",
            "Insira o salário atual:1000\n",
            "O cargo é de Escrituário!\n",
            "O valor do aumento é:  500.0\n",
            "Seu novo salário é:  1500.0\n"
          ]
        }
      ]
    },
    {
      "cell_type": "markdown",
      "metadata": {
        "id": "wKORNMrWxDQs"
      },
      "source": [
        "### 24. Faça um programa que apresente o menu a seguir, permita ao usuário escolher a opção desejada, receba os dados necessários para executar a operação e mostre o resultado. Verifique a possibilidade de opção inválida e não se preocupe com restrições, como salário negativo.\n",
        "\n",
        "    Menu de opções\n",
        "    1. Imposto\n",
        "    2. Novo salário\n",
        "    3. Classificação\n",
        "    Digite a opção desejada:\n",
        "\n",
        "*Na opção 1: receber o salário de um funcionário, calcular e mostrar o valor do imposto usando as regras a seguir.*\n",
        "\n",
        "  |SALÁRIO|PERCENTUAL DO IMPOSTO|\n",
        "  |---|---|\n",
        "  |Menor que  500,00|5%|\n",
        "  |De  500,00 (inclusive) a  850,00 (inclusive)|10%|\n",
        "  |Acima de  850,00|15%|\n",
        "\n",
        "*Na opção 2: receber o salário de um funcionário, calcular e mostrar o valor do novo salário, usando as regras a seguir.*\n",
        "\n",
        "  |SALÁRIO|AUMENTO|\n",
        "  |---|---|\n",
        "  |Maior que  1.500,00| 25,00|\n",
        "  |De  750,01 a  1.500,00 (inclusive)| 50,00|\n",
        "  |De  450,00 (inclusive) a  750,00| 75,00|\n",
        "  |Menor que  450,00| 100,00|\n",
        "\n",
        "*Na opção 3: receber o salário de um funcionário e mostrar sua classificação usando a tabela a seguir.*\n",
        "\n",
        "|SALÁRIO|CLASSIFICAÇÃO|\n",
        "|---|---|\n",
        "|Até  700,00 (inclusive)|Mal remunerado|\n",
        "|Maiores que  700,00|Bem remunerado|\n"
      ]
    },
    {
      "cell_type": "code",
      "metadata": {
        "id": "LsX6cPFdxFxe",
        "colab": {
          "base_uri": "https://localhost:8080/"
        },
        "outputId": "ab65e7dd-ba77-4c3d-94d6-e5ef01dd77a4"
      },
      "source": [
        "print('Menu do Opções:\\n1. Imposto. \\n2. Novo salário. \\n3. Classificação.')\n",
        "codigo = int(input('Insira a opção a desejada:'))\n",
        "salario = float(input('Insira o seu salário: '))\n",
        "\n",
        "if codigo == 1:\n",
        "    if salario < 500:\n",
        "        imposto = salario * 5 / 100\n",
        "        print('O seu imposto é de: ',imposto)\n",
        "    if salario >= 500 and salario <= 850:\n",
        "        imposto = salario * 10 / 100\n",
        "        print('O seu imposto é de: ',imposto)\n",
        "    else:\n",
        "        imposto = salario * 15 / 100\n",
        "        print('O seu imposto é de: ',imposto) \n",
        "elif codigo == 2:\n",
        "    if salario > 1.500:\n",
        "        novoSalario = salario + 25\n",
        "        print('Seu novo salário é de: R$',novoSalario)\n",
        "    elif salario > 750 and salario <= 1.500:\n",
        "        novoSalario = salario + 50\n",
        "        print('Seu novo salário é de: R$',novoSalario)\n",
        "    elif salario >= 450 and salario <= 700:\n",
        "        novoSalario = salario + 75\n",
        "        print('Seu novo salário é de: R$',novoSalario)\n",
        "    elif salario < 450:\n",
        "        novoSalario = salario + 100\n",
        "        print('Seu novo salário é de: R$',novoSalario)\n",
        "elif codigo == 3:\n",
        "    if salario <= 700:\n",
        "        print('Mal remunerado')\n",
        "    else:\n",
        "        print('Bem remunerado')\n",
        "\n",
        "        \n",
        "    \n",
        "\n"
      ],
      "execution_count": null,
      "outputs": [
        {
          "output_type": "stream",
          "name": "stdout",
          "text": [
            "Menu do Opções:\n",
            "1. Imposto. \n",
            "2. Novo salário. \n",
            "3. Classificação.\n",
            "Insira a opção a desejada:1\n",
            "Insira o seu salário: 1000\n",
            "O seu imposto é de:  150.0\n"
          ]
        }
      ]
    },
    {
      "cell_type": "markdown",
      "metadata": {
        "id": "pNlvJKW5xF6H"
      },
      "source": [
        "###25. Faça um programa que receba o salário inicial de um funcionário, calcule e mostre o novo salário, acrescido de bonificação e de auxílio escola.\n",
        "\n",
        "|SALÁRIO|BONIFICAÇÃO|\n",
        "|---|---|\n",
        "|Até  500,00|5% do salário|\n",
        "|Entre  500,01 e 1.200,00|12% do salário|\n",
        "|Acima de  1.200,00|Sem bonificação|\n",
        ">\n",
        "|SALÁRIO|AUXÍLIO ESCOLA|\n",
        "|---|---|\n",
        "|Até  600,00| 150,00|\n",
        "|Acima de  600,00| 100,00|\n",
        "\n",
        "novo_salario = salario + bonificacao + auxílio escola"
      ]
    },
    {
      "cell_type": "code",
      "metadata": {
        "id": "m2EJlS2IxIrf",
        "colab": {
          "base_uri": "https://localhost:8080/"
        },
        "outputId": "6a540a23-c844-4b4d-f3d2-d5e409c95e60"
      },
      "source": [
        "salario = float(input('Insira o seu salário: '))\n",
        "\n",
        "if salario <= 500:\n",
        "    bonificacao = salario * 5 / 100\n",
        "    auxilioEscola = bonificacao + salario + 150\n",
        "    print('Seu salário é de: ',auxilioEscola)\n",
        "elif salario > 500 and salario < 1200:\n",
        "    if salario <= 600:\n",
        "        bonificacao = salario * 12 / 100\n",
        "        auxilioEscola = bonificacao + salario + 150\n",
        "        print('Seu salário é de: ',auxilioEscola)\n",
        "    else: \n",
        "        bonificacao = salario * 12 / 100\n",
        "        auxilioEscola = bonificacao + salario + 100\n",
        "        print('Seu salário é de: ',auxilioEscola)\n",
        "elif salario > 1200:\n",
        "    novoSal = salario + 100\n",
        "    print('Seu salário é de: ',novoSal)\n",
        "   "
      ],
      "execution_count": null,
      "outputs": [
        {
          "output_type": "stream",
          "name": "stdout",
          "text": [
            "Insira o seu salário: 500\n",
            "Seu salário é de:  675.0\n"
          ]
        }
      ]
    },
    {
      "cell_type": "markdown",
      "metadata": {
        "id": "fA_TpNq4xI0h"
      },
      "source": [
        "### 26. Faça um programa que receba o valor do salário mínimo, o número de horas trabalhadas, o número de dependentes do funcionário e a quantidade de horas extras trabalhadas. Calcule e mostre o salário a receber do funcionário de acordo com as regras a seguir:\n",
        "\n",
        "  * O valor da hora trabalhada é igual a 1/5 do salário mínimo.\n",
        "  * O salário do mês é igual ao número de horas trabalhadas multiplicado pelo valor da hora trabalhada.\n",
        "  * Para cada dependente, acrescentar  32,00.\n",
        "  * Para cada hora extra trabalhada, calcular o valor da hora * trabalhada acrescida de 50%.\n",
        "  * O salário bruto é igual ao salário do mês mais o valor dos dependentes mais o valor das horas extras.\n",
        "  * Calcular o valor do impostoosto de renda retido na fonte de acordo com a tabela a seguir:\n",
        "\n",
        "|IRFF|SALÁRIO BRUTO|\n",
        "|---|---|\n",
        "|Isento|Inferior a  200,00|\n",
        "|10%|De  200,00 até 500,00|\n",
        "|20%|Superior a  500,00|\n",
        "\n",
        "  * O salário líquido é igual ao salário bruto menos IRRF.\n",
        "  * A gratificação é de acordo com a tabela a seguir:\n",
        "\n",
        "|SALÁRIO LÍQUIDO|GRATIFICAÇÃO|\n",
        "|---|---|\n",
        "|Até 350,00| 100,00|\n",
        "|Superior a  350| 50,00|\n",
        "\n",
        "  * O salário a receber do funcionário é igual ao salário líquido mais a gratificação.\n",
        "\n",
        "  ```code\n",
        "  LEIA salario_minimo, numero_horas_trabalhadas, numero_dependentes, numero_horas_extras\n",
        "  \n",
        "  valor_hora = 1/5 * salario_minimo\n",
        "  salario_mes = numero_horas_trabalhadas * valor_hora\n",
        "  valor_dependentes = 32 * numero_dependentes\n",
        "  valor_hora_extra = numero_horas_extras * (valor_hora + (valor_hora * 50/100))\n",
        "  salario_bruto =salario_mes + valor_dependentes + valor_hora_extra\n",
        "  \n",
        "  SE salario_bruto < 200\n",
        "        imposto = 0\n",
        "  SENÃO SE salario_bruto >= 200 E salario_bruto <= 500\n",
        "        imposto = salario_bruto * 10/100\n",
        "  SENÃO SE salario_bruto > 500\n",
        "        imposto = salario_bruto * 20/100\n",
        "  salario_liquido = salario_bruto – imposto\n",
        "  SE salario_liquido <= 350\n",
        "        gratificacao = 100\n",
        "  SENÃO\n",
        "        gratificacao = 50\n",
        "  salario_a_receber = salario_liquido + gratificacao\n",
        "  \n",
        "  ESCREVA salario_a_receber\n",
        "  ```"
      ]
    },
    {
      "cell_type": "code",
      "metadata": {
        "id": "3eECKlHfxLK5",
        "colab": {
          "base_uri": "https://localhost:8080/"
        },
        "outputId": "db448041-daaa-49c6-a58d-10a262ce521e"
      },
      "source": [
        "salarioMinimo = float(input('Insira o salário minimo: '))\n",
        "horasTrabalhadas = float(input('Insira as horas trabalhadas: '))\n",
        "dependentes = float(input('Insira o numero de dependentes: '))\n",
        "horasExtras = float(input('Insira quantidade de horas extras: '))\n",
        "\n",
        "valorHora = 0.5 * salarioMinimo\n",
        "salarioMes = horasTrabalhadas * valorHora\n",
        "valorDependentes = 32 * dependentes \n",
        "valorHoraExtra = horasExtras * (valorHora + ( valorHora * 50 / 100))\n",
        "salarioBruto = salarioMes + valorDependentes + valorHoraExtra\n",
        "\n",
        "if salarioBruto < 200:\n",
        "    imposto = 0\n",
        "elif salarioBruto >= 200 and salarioBruto <= 500:\n",
        "    imposto = (salarioBruto * 10) / 100\n",
        "elif salarioBruto > 500:\n",
        "    imposto = (salarioBruto * 20) / 100\n",
        "salarioliquido = salarioBruto - imposto\n",
        "if salarioliquido <= 350:\n",
        "    gratificacao = 100\n",
        "else:\n",
        "    gratificacao = 50\n",
        "salarioreceber = salarioliquido + gratificacao\n",
        "\n",
        "print('Salário a receber: ',salarioreceber)"
      ],
      "execution_count": null,
      "outputs": [
        {
          "output_type": "stream",
          "name": "stdout",
          "text": [
            "Insira o salário minimo: 1000\n",
            "Insira as horas trabalhadas: 5\n",
            "Insira o numero de dependentes: 2\n",
            "Insira quantidade de horas extras: 2\n",
            "Salário a receber:  3301.2\n"
          ]
        }
      ]
    },
    {
      "cell_type": "markdown",
      "metadata": {
        "id": "MuKRkPA9xLVE"
      },
      "source": [
        "### 27 Um supermercado deseja reajustar os preços de seus produtos usando o seguinte critério: o produto poderá ter seu preço aumentado ou diminuído. Para o preço ser alterado, o produto deve preencher pelo menos um dos requisitos a seguir:\n",
        "\n",
        "|VENDA MÉDIA MENSAL|PREÇO ATUAL|% DE AUMENTO|% DE DIMINUIÇÃO|\n",
        "|---|--|---|---|\n",
        "|< 500|<  30000|10|-|\n",
        "|\\>= 500 e <1200|\\>=  30.00 e <  80.00|15|-|\n",
        "|\\>= 1200|\\>=  80.00|-|20|\n",
        "\n",
        "* Faça um programa que receba o preço atual e a venda média mensal do produto, calcule e mostre o novo preço.\n",
        "\n",
        "```code\n",
        "LEIA preco_atual, media_mensal_vendas\n",
        "\n",
        "SE media_mensal_vendas < 500 OU preco_atual < 30\n",
        "    novo_preco = preco_atual + 10/100 * preco_atual\n",
        "SENÃO SE media_mensal_vendas >= 500 E media_mensal_vendas < 1200 OU preco_atual >= 30 E preco_atual<80\n",
        "    novo_preco = preco_atual + 15 / 100 * preco_atual\n",
        "SENÃO SE venda >= 1200 OU preco_atual >= 80\n",
        "    novo_preco = preco_atual – 20 / 100 * preco_atual\n",
        "      \n",
        "ESCREVA novo_preco\n",
        "```"
      ]
    },
    {
      "cell_type": "code",
      "metadata": {
        "id": "yzIzUTc7xNmr",
        "colab": {
          "base_uri": "https://localhost:8080/"
        },
        "outputId": "9348118d-2309-4be6-99f3-dc6a0d6389a2"
      },
      "source": [
        "precoAtual = float(input('Insira o preço atual: '))\n",
        "vendas = int(input('Insira a venda media do produto: '))\n",
        "\n",
        "if vendas < 500 or precoAtual < 30:\n",
        "    novoPreco = (precoAtual + 10) / 100 * precoAtual\n",
        "elif vendas >= 500 and vendas < 1200 or precoAtual >= 30 and precoAtual < 80:\n",
        "    novoPreco = (precoAtual + 15) / 100 * precoAtual\n",
        "elif vendas >= 1200 or precoAtual >= 80:\n",
        "    novoPreco = precoAtual - 20 / 100 * precoAtual \n",
        "\n",
        "print('Preço atual: ',novoPreco) "
      ],
      "execution_count": null,
      "outputs": [
        {
          "output_type": "stream",
          "name": "stdout",
          "text": [
            "Insira o preço atual: 1000\n",
            "Insira a venda media do produto: 600\n",
            "Preço atual:  10150.0\n"
          ]
        }
      ]
    },
    {
      "cell_type": "markdown",
      "metadata": {
        "id": "X-eT0SRdxNwk"
      },
      "source": [
        "### 28. Faça um programa para resolver equações do 2 o grau.\n",
        "\n",
        "**ax² + bx + c = 0**\n",
        "\n",
        "A variável *a* deve ser diferente de zero*\n",
        "\n",
        "  * delta = b ** 2 - 4 * a * c\n",
        "  * delta < 0.  **Não existe raiz real**\n",
        "  * delta = 0. **Existe uma raiz real**\n",
        "    * x = (-b) / (2 * a)\n",
        "  * delta > 0. **Existem duas raízes reais**\n",
        "    * x1 = -b + raiz(delta)/ (2 * a)\n",
        "    * x2 = -b  - raiz(delta)/ (2 * a)\n",
        "\n",
        "```code\n",
        "LEIA a, b, c\n",
        "SE a = 0\n",
        "    ESCREVA “Estes valores não formam uma equação de segundo grau” \n",
        "SENÃO\n",
        "    delta = (b * b) – ( 4 * a * c)\n",
        "    SE delta < 0\n",
        "        ESCREVA “Não existe raiz real”\n",
        "    SE delta = 0\n",
        "        ESCREVA “Existe uma raiz real”\n",
        "        x1 = (– b) / (2 * a)\n",
        "        ESCREVA x1\n",
        "    SE delta > 0\n",
        "        ESCREVA “Existem duas raízes reais”\n",
        "        x1 = (– b) + raiz(delta) / (2 * a)\n",
        "        x2 = (– b) - raiz(delta) / (2 * a)\n",
        "        ESCREVA(x1, x2)\n",
        "```"
      ]
    },
    {
      "cell_type": "code",
      "metadata": {
        "id": "DAhDbbkaxTAS",
        "colab": {
          "base_uri": "https://localhost:8080/"
        },
        "outputId": "282b9070-fecd-4add-a6a3-e93fc5dc1fcf"
      },
      "source": [
        "a = int(input('Insira a variavel A: '))\n",
        "b = int(input('Insira a variavel B: '))\n",
        "c = int(input('Insira a variavel C: '))\n",
        "\n",
        "if a == 0:\n",
        "    print('Esses valores não formam uma esquação de segundo grau')\n",
        "else:\n",
        "    delta = (b * b) - (4 * a * c)\n",
        "    if delta < 0:\n",
        "        print('Não existe uam raiz real')\n",
        "    if delta == 0:\n",
        "        print('Existe uma raiz real')\n",
        "        x1 = (-b) / (2 * a)\n",
        "        print('X1: ',x1)\n",
        "    if delta > 0:\n",
        "        print('Existem duas raízes reais')\n",
        "        x1 = (-b) + raiz(delta) / (2 * a)\n",
        "        x2 = (-b) - raiz(delta) / (2 * a)\n",
        "        print('X1: ',x1,'X2: ',x2)"
      ],
      "execution_count": null,
      "outputs": [
        {
          "output_type": "stream",
          "name": "stdout",
          "text": [
            "Insira a variavel A: 2\n",
            "Insira a variavel B: 3\n",
            "Insira a variavel C: 2\n",
            "Não existe uam raiz real\n"
          ]
        }
      ]
    },
    {
      "cell_type": "markdown",
      "metadata": {
        "id": "PrDtckwwxTK6"
      },
      "source": [
        "### 29. Dados três valores X, Y e Z, verifique se eles podem ser os comprimentos dos lados de um triângulo e, se forem, verifique se é um triângulo equilátero, isósceles ou escaleno. Se eles não formarem um triângulo, escreva uma mensagem.\n",
        "Considere que:\n",
        "* o comprimento de cada lado de um triângulo é menor que a soma dos outros dois lados;\n",
        "* chama-se equilátero o triângulo que tem três lados iguais;\n",
        "* denomina-se isósceles o triângulo que tem o comprimento de dois lados iguais;\n",
        "* recebe o nome de escaleno o triângulo que tem os três lados diferentes.\n",
        "\n",
        "```code\n",
        "LEIA x, y, z\n",
        "SE x < y + z E y < x + z E z < x + y\n",
        "    SE x = y E y = z\n",
        "        ESCREVA “Triângulo Equilátero”\n",
        "    SENÃO SE x = y OU x = z OU y = z\n",
        "        ESCREVA “Triângulo Isósceles”\n",
        "    SENÃO SE x ≠ y E x ≠ z E y ≠ z\n",
        "        ESCREVA “Triângulo Escaleno”\n",
        "SENÃO\n",
        "    ESCREVA “Essas medidas não formam um triângulo”\n",
        "```"
      ]
    },
    {
      "cell_type": "code",
      "metadata": {
        "id": "72Ljhi6lxyco",
        "colab": {
          "base_uri": "https://localhost:8080/"
        },
        "outputId": "1987cc66-ed53-49b9-b62e-5dd935537003"
      },
      "source": [
        "x = int(input('Insira o primeiro lado: '))\n",
        "y = int(input('Insira o segundo lado: '))\n",
        "z = int(input('Insira o terceiro lado: '))\n",
        "\n",
        "if x < y + z and y < x + z and z < x + y:\n",
        "    if x == y and y == z:\n",
        "        print('Triângulo equilátero!')\n",
        "    elif x == y or x == z or y == z:\n",
        "        print('Triângulo isóceles!')\n",
        "    elif x != y and x != z and y != z:\n",
        "        print('Triângulo Escaleno!')\n",
        "else:\n",
        "    print('Essa medidas não forma um triângulo')\n",
        "\n",
        "\n"
      ],
      "execution_count": null,
      "outputs": [
        {
          "output_type": "stream",
          "name": "stdout",
          "text": [
            "Insira o primeiro lado: 7\n",
            "Insira o segundo lado: 7\n",
            "Insira o terceiro lado: 7\n",
            "Triângulo equilátero!\n"
          ]
        }
      ]
    },
    {
      "cell_type": "markdown",
      "metadata": {
        "id": "mCpnRwCvxymh"
      },
      "source": [
        "### 30. Faça um programa que receba a altura e peso de uma pessoa. De acordo com a tabela a seguir, verifique e mostre a classificação dessa pessoa.\n",
        "\n",
        "|ALTURA|ATÉ 60|ENTRE 60 E 90 (INCLUSIVE)|ACIMA DE 90|\n",
        "|---|---|---|---|\n",
        "|Menores que 1,20|A|D|G|\n",
        "|De 1,20 a 1,70|B|E|H|\n",
        "|Maiores que 1,70|C|F|I|\n",
        "\n",
        "```code\n",
        "LEIA altura, peso\n",
        "SE altura < 1.20\n",
        "    SE peso <= 60\n",
        "        ESCREVA “A”\n",
        "    SENÃO SE peso > 60 E peso <= 90\n",
        "        ESCREVA “D”\n",
        "    SENÃO SE peso > 90\n",
        "        ESCREVA “G”\n",
        "SENÃO SE altura >= 1.20 E altura <= 1.70\n",
        "    SE peso <= 60\n",
        "        ESCREVA “B”\n",
        "    SENÃO SE peso > 60 E peso <= 90\n",
        "        ESCREVA “E”\n",
        "    SENÃO SE peso > 90\n",
        "        ESCREVA “H”\n",
        "SENÃO SE altura > 1.70\n",
        "    SE peso <= 60\n",
        "        ESCREVA “C”\n",
        "    SENÃO SE peso > 60 E peso <= 90\n",
        "        EESCREVA “F”\n",
        "    SENÃO SE peso > 90\n",
        "        ESCREVA “I”\n",
        "```"
      ]
    },
    {
      "cell_type": "code",
      "metadata": {
        "id": "SXLzbTf6x4pi",
        "colab": {
          "base_uri": "https://localhost:8080/"
        },
        "outputId": "136a6b52-1715-4c34-ee8b-089496d886d8"
      },
      "source": [
        "peso = float(input('Insira o peso: '))\n",
        "altura = float(input('Insira a altura: '))\n",
        "\n",
        "if altura < 1.20:\n",
        "    if peso <= 60:\n",
        "        print('A')\n",
        "    elif peso > 60 and peso <= 90:\n",
        "        print('D')\n",
        "    elif peso > 90:\n",
        "        print('G')\n",
        "elif altura >= 1.20 and altura <= 1.70:\n",
        "    if peso <= 60:\n",
        "        print('B')\n",
        "    elif peso > 60 and peso <= 90:\n",
        "        print('E')\n",
        "    elif peso > 90:\n",
        "        print('H')\n",
        "elif altura > 1.70:\n",
        "    if peso <= 60: \n",
        "        print('C')\n",
        "    elif peso > 60 and peso <= 90:\n",
        "        print('F')\n",
        "    elif peso > 90:\n",
        "        print('I')\n",
        "\n",
        "\n",
        "\n",
        "\n",
        "\n"
      ],
      "execution_count": null,
      "outputs": [
        {
          "output_type": "stream",
          "name": "stdout",
          "text": [
            "Insira o peso: 88\n",
            "Insira a altura: 1.80\n",
            "F\n"
          ]
        }
      ]
    },
    {
      "cell_type": "markdown",
      "metadata": {
        "id": "ydBS_HyAx40L"
      },
      "source": [
        "### 31. Faça um programa que receba:\n",
        "\n",
        "* O código de um produto comprado, supondo que a digitação do código do produto seja sempre válida, isto é, um número * inteiro entre 1 e 10.\n",
        "* O peso do produto em quilos.\n",
        "* O código do país de origem, supondo que a digitação do  código seja sempre válida, isto é, um número inteiro entre 1 e 3.\n",
        "\n",
        "|CÓDIGO DO PAÍS DE ORIGEM|IMPOSTO|\n",
        "|---|---|\n",
        "|1|0%|\n",
        "|2|15%|\n",
        "|3|25%|\n",
        "\n",
        "|CÓDIGO DO PAÍS DO PRODUTO|PREÇO POR GRAMA|\n",
        "|---|---|\n",
        "|1 a 4|10|\n",
        "|5 a 7|25|\n",
        "|8 a 10|35|\n",
        "\n",
        "Calcule e mostre:\n",
        "* o peso do produto convertido em gramas;\n",
        "* o preço total do produto comprado;\n",
        "* valor do imposto, sabendo que ele é cobrado sobre o * preço total do produto comprado e dependendo país de origem;\n",
        "* o valor total, preço total do produto mais imposto.\n",
        "\n",
        "```code\n",
        "LEIA codigo_produto, peso_quilos, codigo_pais\n",
        "peso_em_gramas = peso_quilos * 1000\n",
        "ESCREVA peso_em_gramas\n",
        "SE codigo_produto >= 1 E codigo_produto <= 4\n",
        "   preco_por_grama = 10\n",
        "SENÃO SE codigo_produto >= 5 E codigo_produto <= 7\n",
        "   preco_por_grama = 25\n",
        "SENÃO SE codigo_produto >= 8 E codigo_produto <= 10\n",
        "   preco_por_grama = 35    \n",
        "preco_total = peso_em_gramas *preco_por_grama\n",
        "ESCREVA preco_total\n",
        "SE codigo_pais = 1\n",
        "    imposto = 0\n",
        "SENÃO SE codigo_pais = 2\n",
        "    imposto = preco_total * 15/100\n",
        "SENÃO SE codigo_pais = 3\n",
        "    imposto = preco_total * 25/100    \n",
        "ESCREVA imposto\n",
        "valor_total = preco_total + imposto\n",
        "ESCREVA valor_total\n",
        "```"
      ]
    },
    {
      "cell_type": "code",
      "metadata": {
        "id": "hZvxJNadx7dp",
        "colab": {
          "base_uri": "https://localhost:8080/"
        },
        "outputId": "e636c003-8899-4b94-b72f-971ae0df938d"
      },
      "source": [
        "produto = int(input('Insira o codigo do produto: '))\n",
        "peso = float(input('Insira o peso em quilos: '))\n",
        "pais = int(input('insira o codigo do pais correspondente: '))\n",
        "\n",
        "pesoGramas = peso * 1000\n",
        "print(pesoGramas)\n",
        "\n",
        "if produto >= 1 and produto <= 4:\n",
        "    precoGrama = 10\n",
        "elif produto >= 5 and produto <= 7:\n",
        "    precoGrama = 25\n",
        "elif produto >= 8 and produto <= 10:\n",
        "    precoGrama = 35\n",
        "precoTotal = precoGrama * pesoGramas\n",
        "if pais == 1:\n",
        "    imposto = 0\n",
        "elif pais == 2:\n",
        "    imposto = (precoTotal * 15) / 100\n",
        "elif pais == 3:\n",
        "    imposto = (precoTotal * 25) / 100\n",
        "print('Imposto: ',imposto)\n",
        "valorTotal = precoTotal + imposto\n",
        "print('Valor total: ',valorTotal)"
      ],
      "execution_count": null,
      "outputs": [
        {
          "output_type": "stream",
          "name": "stdout",
          "text": [
            "Insira o codigo do produto: 2\n",
            "Insira o peso em quilos: 2\n",
            "insira o codigo do pais correspondente: 2\n",
            "2000.0\n",
            "Imposto:  3000.0\n",
            "Valor total:  23000.0\n"
          ]
        }
      ]
    },
    {
      "cell_type": "markdown",
      "metadata": {
        "id": "XyWancSmx7l5"
      },
      "source": [
        "### 32. Faça um programa que receba:\n",
        "* o código do estado de origem da carga de um caminhão, supondo que a digitação do código do estado seja sempre válida, isto é, um número inteiro entre 1 e 5;\n",
        "* o peso da carga do caminhão em toneladas;\n",
        "* o código da carga, supondo que a digitação do código seja sempre válida, isto é, um número inteiro entre 10 e 40.\n",
        "\n",
        "| CÓDIGO DO ESTADO| IMPOSTO|\n",
        "|---|---|\n",
        "|1|35%|\n",
        "|2|25%|\n",
        "|3|15%|\n",
        "|4|5%|\n",
        "|5|Isento|\n",
        ">\n",
        "CÓDIGO DA CARGA|PREÇO POR QUILO\n",
        "---|---\n",
        "10 a 20|100\n",
        "21 a 30|250\n",
        "31 a 40|400\n",
        "\n",
        "Calcule e mostre:\n",
        "* o peso da carga do caminhão convertido em quilos;\n",
        "* o preço da carga do caminhão;\n",
        "* o valor do imposto, sabendo que o imposto é cobrado sobre o preço da carga do caminhão e depende do estado de origem;\n",
        "* o valor total transportado pelo caminhão, preço da carga mais imposto.\n",
        "\n",
        "```\n",
        "LEIA codigo_estado, peso_em_toneladas, codigo_carga\n",
        "peso_em_quilos = peso_em_toneladas * 1000\n",
        "ESCREVA peso_em_quilos\n",
        "SE codigo_carga >= 10 E codigo_carga <= 20\n",
        "    preco_da_carga = 100 * peso_em_quilos\n",
        "SENÃO SE codigo_carga >= 21 E codigo_carga <= 30\n",
        "    preco_da_carga = 250 * peso_em_quilos\n",
        "SENÃO SE codigo_carga >= 31 E codigo_carga <= 40\n",
        "    preco_da_carga = 340 * peso_em_quilos   \n",
        "ESCREVA preco_da_carga\n",
        "SE codigo_estado = 1\n",
        "    imposto = 35/100 * preco_da_carga\n",
        "SENÃO SE codigo_estado = 2\n",
        "    imposto = 25/100 * preco_da_carga\n",
        "SENÃO SE codigo_estado = 3\n",
        "    imposto = 15/100 * preco_ds_carga\n",
        "SENÃO SE codigo_estado = 4\n",
        "    imposto = 5/100 * preco_da_carga\n",
        "SENÃO SE codigo_estado = 5\n",
        "    imposto = 0\n",
        "ESCREVA imposto\n",
        "valor_total = preco_da_carga + imposto\n",
        "ESCREVA valor_total\n",
        "```"
      ]
    },
    {
      "cell_type": "code",
      "metadata": {
        "id": "JCjrCJ9Gx8X3",
        "colab": {
          "base_uri": "https://localhost:8080/"
        },
        "outputId": "37a65a03-1787-4327-ba31-167ca813ca4b"
      },
      "source": [
        "estado = int(input('Insira o codigo de cada estado: '))\n",
        "toneladas = float(input('Insira o peso em toneladas: '))\n",
        "carga = int(input('Insira o codigo da carga: '))\n",
        "\n",
        "pesoQuilos = toneladas * 1000\n",
        "print('Peso em quilos: ',pesoQuilos)\n",
        "\n",
        "if carga >= 10 and carga <= 20:\n",
        "    precoCarga = 100 * pesoQuilos \n",
        "elif carga >= 21 and carga <= 30:\n",
        "    precoCarga = 250 * pesoQuilos\n",
        "elif carga >= 31 and carga <= 40:\n",
        "    precoCarga = 340 * pesoQuilos\n",
        "\n",
        "print('Preço da carga: ',precoCarga)\n",
        "\n",
        "if estado == 1:\n",
        "    imposto = 35 / 100 * precoCarga\n",
        "elif estado == 2:\n",
        "    imposto = 25 / 100 * precoCarga\n",
        "elif estado == 3:\n",
        "    imposto = 15 / 100 * precoCarga\n",
        "elif estado == 4:\n",
        "    imposto = 5 / 100 * precoCarga\n",
        "elif estado == 5:\n",
        "    imposto = 0\n",
        "print('Imposto: ',imposto)\n",
        "valorTotal = precoCarga + imposto\n",
        "print('Valor total: ',valorTotal)"
      ],
      "execution_count": null,
      "outputs": [
        {
          "output_type": "stream",
          "name": "stdout",
          "text": [
            "Insira o codigo de cada estado: 4\n",
            "Insira o peso em toneladas: 5000000\n",
            "Insira o codigo da carga: 11\n",
            "Peso em quilos:  5000000000.0\n",
            "Preço da carga:  500000000000.0\n",
            "Imposto:  25000000000.0\n",
            "Valor total:  525000000000.0\n"
          ]
        }
      ]
    },
    {
      "cell_type": "markdown",
      "metadata": {
        "id": "bBmw7JBQx8iH"
      },
      "source": [
        "### 33. Faça um programa que receba o salário base e o tempo de serviço de um funcionário. Calcule e mostre:\n",
        "* O imposto, conforme a tabela a seguir.\n",
        "\n",
        "|SALÁRIO BASE|% SOBRE O SALÁRIO BASE|\n",
        "|---|---|\n",
        "|< 200|isento|\n",
        "|>= 250 E <= 450|3%|\n",
        "|>  450 E < 700|8%|\n",
        "|>=  700|12%|\n",
        "\n",
        "* A gratificação, de acordo com a tabela a seguir.\n",
        "\n",
        "SALÁRIO BASE R$|TEMPO DE SERVIÇO|GRATIFICAÇÃO\n",
        "---|---|---\n",
        "Superior a 500,00|Até 3 anos|20\n",
        " | Mais de 3 anos|30\n",
        "  --------------------------|---------|--------------\n",
        "Até 500,00|Até 3 anos|23\n",
        "|Entre 3 e 6 anos|35\n",
        "|Acima de 6 anos|33\n",
        "\n",
        "* O salário líquido, ou seja, salário base menos imposto mais gratificação.\n",
        "* A categoria, que está na tabela a seguir.\n",
        "\n",
        "```\n",
        "LEIA salario_base, tempo\n",
        "\n",
        "SE salario_base < 200\n",
        "    imposto = 0\n",
        "SENÃO SE salario_base <= 450\n",
        "    imposto = 3/100 * salario_base\n",
        "SENÃO SE sal_base < 700\n",
        "    imposto = 8/100 * salario_base\n",
        "SENÃO\n",
        "    imposto = 12/100 * salario_base\n",
        "ESCREVA imposto\n",
        "SE salario_base > 500\n",
        "    SE tempo <= 3\n",
        "         gratificacao = 20\n",
        "    SENÃO \n",
        "        gratificacao = 30\n",
        "SENÃO\n",
        "    SE tempo <= 3\n",
        "        gratificacao = 23\n",
        "    SENÃO SE tempo < 6\n",
        "        gratificacao = 35\n",
        "    SENÃO gratificacao = 33\n",
        "ESCREVA gratificacao\n",
        "salario_liquido = salario_base – imposto + gratificacao\n",
        "ESCREVA salario_liqquido\n",
        "SE salario_liquido <= 350\n",
        "    ESCREVA “Classificação A”\n",
        "SENÃO SE salario_liqquido < 600\n",
        "    ESCREVA “Classificação B”\n",
        "SENÃO\n",
        "    ESCREVA “Classificação C”\n",
        "```"
      ]
    },
    {
      "cell_type": "code",
      "metadata": {
        "id": "xhj04HVix_LL",
        "colab": {
          "base_uri": "https://localhost:8080/"
        },
        "outputId": "00fbc188-70f7-4378-dec8-65a41d70117c"
      },
      "source": [
        "salarioBase = float(input('Insira o salário base: '))\n",
        "tempo = int(input('Insira os anos que passaram: '))\n",
        "\n",
        "if salarioBase < 200:\n",
        "    imposto = 0\n",
        "elif salarioBase <= 450:\n",
        "    imposto = 3 / 100 * salarioBase\n",
        "elif salarioBase < 700:\n",
        "    imposto = 8 / 100 * salarioBase\n",
        "else: \n",
        "    imposto = 12 / 100 * salarioBase\n",
        "print('Imposto: ',imposto)\n",
        "if salarioBase > 500: \n",
        "    if tempo <= 3:\n",
        "        gratificacao = 20\n",
        "    else: \n",
        "        gratificacao = 30\n",
        "else:\n",
        "    if tempo <= 3:\n",
        "        gratificacao = 23\n",
        "    elif tempo < 6:\n",
        "        gratificacao = 35\n",
        "    else: \n",
        "        gratificacao = 33\n",
        "print('Gratificação :',gratificacao)\n",
        "salarioLiquido = salarioBase - imposto + gratificacao\n",
        "print('Salario Liquido: ',salarioLiquido)\n",
        "if salarioLiquido <= 350:\n",
        "    print('Classificação A!')\n",
        "elif salarioLiquido < 600:\n",
        "    print('CLassificação B!')\n",
        "else:\n",
        "    print('Classificação C')"
      ],
      "execution_count": null,
      "outputs": [
        {
          "output_type": "stream",
          "name": "stdout",
          "text": [
            "Insira o salário base: 2000\n",
            "Insira os anos que passaram: 3\n",
            "Imposto:  240.0\n",
            "Gratificação : 20\n",
            "Salario Liquido:  1780.0\n",
            "Classificação C\n"
          ]
        }
      ]
    },
    {
      "cell_type": "markdown",
      "metadata": {
        "id": "HdSARhTlx_VV"
      },
      "source": [
        "### 34. Faça um programa que:\n",
        "* receba o valor do salário mínimo,\n",
        "* o turno de trabalho (M — matutino; V — vespertino; ou N — noturno),\n",
        "* a categoria (O — operário; G — gerente) \n",
        "* número de horas trabalhadas no mês de um funcionário. \n",
        "\n",
        "*Suponha a digitação apenas de dados válidos e, quando houver digitação de letras, utilize maiúsculas.*\n",
        "\n",
        "**Calcule e mostre:**\n",
        "\n",
        "* O coeficiente do salário, de acordo com a tabela a seguir.\n",
        "\n",
        "TURNO DE TRABALHO|VALOR DO COEFICIENTE\n",
        "---|---\n",
        "M - Matutino|10% do salário mínimo\n",
        "V - Vespertino|15% do salário mínimo\n",
        "N - Noturno|20% do salário mínimo\n",
        "\n",
        "* O valor do salário bruto, ou seja, o número de horas trabalhadas multiplicado pelo valor do coeficiente do salário.\n",
        "\n",
        "* O imposto, de acordo com a tabela a seguir.\n",
        "\n",
        "CATEGORIA| SALÁRIO BRUTO|IMPOSTO SOBRE O SALÁRIO BRUTO\n",
        "---|---|---\n",
        "O - Operário|>= 300,00|5%\n",
        "O - Operário|< 300,00|3%\n",
        "G - Gerente|>= 300,00|6%\n",
        "G - Gerente|< 300,00|4%\n",
        "\n",
        "* A gratificação, de acordo com as regras a seguir. Se o funcionário preencher todos os requisitos a seguir, sua gratificação será de 50,00; caso contrário, será de 30,00. Os requisitos são:\n",
        " * Turno: Noturno\n",
        "  * Número de horas trabalhadas: Superior a 80 horas\n",
        "  * O auxílio alimentação, de acordo com as seguintes regras.\n",
        "* Auxilio alimentação, um terço do seu salário bruto; caso contrário, será de metade do seu salário bruto. Os requisitos são:\n",
        "  * Se o funcionário preencher algum dos requisitos a seguir, seu auxílio alimentação será de \n",
        "  * Categoria: Operário\n",
        "  * Coeficiente do salário: < = 25\n",
        "* O salário líquido, ou seja, salário bruto menos imposto mais gratificação mais auxílio alimentação.\n",
        "* A classificação, de acordo com a tabela a seguir:\n",
        "\n",
        "SALÁRIO LÍQUIDO|MENSAGEM\n",
        "---|---\n",
        "Menor que 350,00|Mal remunerado\n",
        "Entre 350 e 600,00|Normal\n",
        "Maior que 600,00|Bem remunerado\n",
        "\n",
        "```\n",
        "LEIA salario_minino, turno, categoria, numero_de_horas_trabalhadas\n",
        "SE turno = “M”\n",
        "     coeficiente = 10/100 * salario_minino\n",
        "SENÃO SE turno = “V”\n",
        "     coeficiente = 15/100 * salario_minino\n",
        "SENÃO SE turno = “N”\n",
        "     coeficiente = 12/100 * salario_minino\n",
        "     \n",
        "ESCREVA coeficiente\n",
        "\n",
        "salario_bruto = numero_de_horas_trabalhadas * coeficiente\n",
        "\n",
        "ESCREVA salario_bruto\n",
        "\n",
        "SE categoria = “O”\n",
        "    SE sal_bruto >= 300\n",
        "        imposto = 5/100 * sal_bruto\n",
        "    SENÃO\n",
        "        imposto = 3/100 * sal_bruto\n",
        "SENÃO \n",
        "    SE salario_bruto >= 400\n",
        "        imposto = 6/100 * salario_bruto\n",
        "    SENÃO\n",
        "         imposto = 4/100 * salario_bruto\n",
        "         \n",
        "ESCREVA imposto\n",
        "\n",
        "SE turno = “N” E numero_de_horas_trabalhadas > 80\n",
        "    gratificacao = 50\n",
        "SENÃO\n",
        "    gratificacao = 30\n",
        "    \n",
        "ESCREVA gratificacao\n",
        "\n",
        "SE categoria = “O” OU coeficiente <= 25\n",
        "    auxilio = 1/3 * salario_bruto\n",
        "SENÃO\n",
        "    auxilio = 1/2 * salario_bruto\n",
        "    \n",
        "ESCREVA auxilio\n",
        "\n",
        "salario_liquido = salario_bruto – imposto + gratificacao + auxilio\n",
        "\n",
        "ESCREVA salario_liquido\n",
        "\n",
        "SE salario_liquido < 350\n",
        "     ESCREVA “Mal Remunerado”\n",
        "SENÃO SE salario_liquido >= 350 E salario_liqquido <= 600\n",
        "     ESCREVA “Normal”\n",
        "SENÃO SE salario_liquido > 600\n",
        "     ESCREVA “Bem Remunerado”\n",
        "```"
      ]
    },
    {
      "cell_type": "code",
      "metadata": {
        "id": "RxtqQbAIyC54",
        "colab": {
          "base_uri": "https://localhost:8080/"
        },
        "outputId": "b6979c63-dd7c-4982-9c0f-282e64df7bb1"
      },
      "source": [
        "from sre_constants import INFO\n",
        "salarioMinimo = float(input('Insira o salário minimo: '))\n",
        "turno = str(input('Insira o turno: '))\n",
        "categoria = str(input('Insira a categoria: '))\n",
        "horasT = int(input('Insira as horas trabalhadas: '))\n",
        "\n",
        "if turno == 'M' or 'm':\n",
        "    coeficiente = 10 / 100 * salarioMinimo\n",
        "elif turno == 'V' or 'v':\n",
        "    coeficiente = 15 / 100 * salarioMinimo\n",
        "elif turno == 'N' or 'n':\n",
        "    coeficiente = 12 / 100 * salarioMinimo\n",
        "print('Coeficiente: ',coeficiente)\n",
        "\n",
        "salarioBruto = horasT * coeficiente\n",
        "\n",
        "print('Salário bruto: ',salarioBruto)\n",
        "\n",
        "if categoria == 'O' or 'o':\n",
        "    if salarioBruto >= 300:\n",
        "        imposto = 5 / 100 * salarioBruto\n",
        "    else:\n",
        "        imposto = 3 / 100 * salarioBruto \n",
        "else: \n",
        "    if salarioBruto >= 400:\n",
        "        imposto = 6 / 100 * salarioBruto\n",
        "    else:\n",
        "        imposto = 4 / 100 * salarioBruto\n",
        "\n",
        "print('Imposto: ',imposto)\n",
        "\n",
        "if turno == 'N' or 'n' and horasT > 80:\n",
        "    gratificacao = 50\n",
        "else:\n",
        "    gratificacao = 30\n",
        "\n",
        "print('Gratificação: ',gratificacao)\n",
        "\n",
        "if categoria == 'O' or 'o' or coeficiente <= 25:\n",
        "    auxilio = 0.3 * salarioBruto\n",
        "else:\n",
        "    auxilio = 0.5 * salarioBruto\n",
        "\n",
        "print('Auxilio: ',auxilio)\n",
        "\n",
        "salarioLiquido = salarioBruto - imposto + gratificacao + auxilio\n",
        "\n",
        "print('Salário Liquido: ',salarioLiquido)\n",
        "\n",
        "if salarioLiquido < 350:\n",
        "    print('Mal remunerado')\n",
        "elif salarioLiquido >= 350 and salarioLiquido <= 600:\n",
        "    print('Normal')\n",
        "elif salarioLiquido > 600:\n",
        "    print('Bem remunerado')\n",
        "\n",
        "\n",
        "\n",
        "     "
      ],
      "execution_count": null,
      "outputs": [
        {
          "output_type": "stream",
          "name": "stdout",
          "text": [
            "Insira o salário minimo: 1000\n",
            "Insira o turno: v\n",
            "Insira a categoria: o\n",
            "Insira as horas trabalhadas: 10\n",
            "Coeficiente:  100.0\n",
            "Salário bruto:  1000.0\n",
            "Imposto:  50.0\n",
            "Gratificação:  30\n",
            "Auxilio:  300.0\n",
            "Salário Liquido:  1280.0\n",
            "Bem remunerado\n"
          ]
        }
      ]
    },
    {
      "cell_type": "markdown",
      "metadata": {
        "id": "c2dARliMyDDG"
      },
      "source": [
        "### 35. Faça um programa que receba de um produto:\n",
        "* o preço\n",
        "* o tipo (A — alimentação; L — limpeza; e V — vestuário)\n",
        "* a refrigeração (S — produto que necessita de refrigeração; e N — produto que não necessita de refrigeração) .\n",
        "\n",
        "**Suponha que haverá apenas a digitação de dados válidos e, quando houver digitação de letras, utilize maiúsculas. Calcule e mostre:**\n",
        "\n",
        "* O valor adicional, de acordo com a tabela a seguir:\n",
        "\n",
        "REFRIGERAÇÃO|TIPO|PREÇO|VALOR ADICIONAL\n",
        "---|---|---|---\n",
        "N|A|<  15,00|2,00|\n",
        " | |>= 15,00|5,00|\n",
        " |---------|--------------|-------------------------------\n",
        " |L|< 10,00|1,50\n",
        " | |>= 10,00|2,50\n",
        "  |---------|--------------|-------------------------------\n",
        " |V|< 30,00|3,00\n",
        " ||>= 30,00|2,50\n",
        "  --------------------------|---------|--------------|-------------------------------\n",
        "S|A||8,00\n",
        "|L||0,00\n",
        "|V||0,00\n",
        "\n",
        "* O valor do imposto, de acordo com a regra a seguir.\n",
        "\n",
        "PREÇO|PERCENTUAL SOBRE O PREÇO\n",
        "---|---\n",
        "< 25,00|5%\n",
        ">= 25,00|8%\n",
        "\n",
        "O preço de custo, ou seja, preço mais imposto.\n",
        "O desconto, de acordo com a regra a seguir.\n",
        "\n",
        "O produto que não preencher nenhum dos requisitos a seguir terá desconto de 3%, caso contrário, 0 (zero). Os requisitos são:\n",
        "* Tipo: A\n",
        "* Refrigeração: S\n",
        "\n",
        "* O novo preço, ou seja, preço de custo mais adicional menos desconto.\n",
        "* A classificação, de acordo com a regra a seguir.\n",
        "\n",
        "NOVO PREÇO|CLASSIFICAÇÃO\n",
        "---|---\n",
        "<= 50,00|Barato\n",
        "Entre 50,01 e 100,00|Normal\n",
        ">= 100,00|Caro\n",
        "\n",
        "\n",
        "```\n",
        "LEIA pre, tipo, refrig\n",
        "SE refrig = “N”\n",
        "    SE tipo = “A”\n",
        "        SE pre < 15\n",
        "           valor_adic = 2\n",
        "        SENÃO \n",
        "           valor_adic = 5\n",
        "    SE tipo = “L”\n",
        "        SE pre < 10\n",
        "           valor_adic = 1.5\n",
        "        SENÃO \n",
        "           valor_adic = 2.5\n",
        "    SE tipo = “V”\n",
        "        SE pre < 30\n",
        "           valor_adic = 3\n",
        "        SENÃO \n",
        "           valor_adic = 2.5\n",
        "SENÃO SE tipo = “A”\n",
        "    valor_adic = 8\n",
        "    SE tipo = “L”\n",
        "        valor_adic = 0\n",
        "    SE tipo = “V”\n",
        "        valor_adic = 0\n",
        "ESCREVA valor_adic\n",
        "SE pre < 25\n",
        "    imposto = 5/100 * pré\n",
        "SENÃO \n",
        "    imposto = 8/100 * pre\n",
        "ESCREVA imposto\n",
        "pre_custo = pre + imposto\n",
        "ESCREVA pre_custo\n",
        "SE tipo != “A” E refrig != “S”\n",
        "  desconto = 3/100 * pre_custo\n",
        "SENÃO \n",
        "  desconto = 0\n",
        "ESCREVA desconto\n",
        "novo_pre = pre_custo + valor_adic – desconto\n",
        "ESCREVA novo_pre\n",
        "SE novo_pre <= 50\n",
        "    ESCREVA “Barato”\n",
        "SENÃO SE novo_pre < 100\n",
        "    ESCREVA “Normal”\n",
        "SENÃO \n",
        "    ESCREVA “Caro”\n"
      ]
    },
    {
      "cell_type": "code",
      "metadata": {
        "id": "2MKheAJMyGc5",
        "colab": {
          "base_uri": "https://localhost:8080/"
        },
        "outputId": "282b121c-137a-4e0b-849a-26ec1f3e5730"
      },
      "source": [
        "preco = float(input('Insira o preço do produto: '))\n",
        "tipo = str(input('Insira o tipo do produto: '))\n",
        "refrig = str(input('Precisa de refrigeração?(SIM / NÃO) '))\n",
        "\n",
        "if refrig == 'N' or 'n':\n",
        "    if tipo == 'A' or 'a':\n",
        "        if preco < 15:\n",
        "            valorAdc = 2\n",
        "        else:\n",
        "            valorAdc = 5\n",
        "    if tipo == 'L' or 'l':\n",
        "        if preco < 10:\n",
        "            valorAdc = 1.5\n",
        "        else:\n",
        "            valorAdc = 2.5\n",
        "    if tipo == 'V' or 'v':\n",
        "        if preco < 30:\n",
        "            valorAdc = 3\n",
        "        else: \n",
        "            valorAdc = 2.5\n",
        "    elif tipo == 'A' or 'a':\n",
        "        valorAdc = 8\n",
        "    elif tipo == 'L' or 'l':\n",
        "        valorAdc = 0\n",
        "    elif tipo == 'V' or 'v':\n",
        "        valorAdc = 0\n",
        "print('Valor adicional: ',valorAdc)\n",
        "\n",
        "if preco < 25:\n",
        "    imposto = 5 / 100 * preco\n",
        "else:\n",
        "    imposto = 8 / 100 * preco\n",
        "\n",
        "print('Imposto: ',imposto)\n",
        "\n",
        "precoCusto = preco + imposto\n",
        "print('Preço de custo: ',precoCusto)\n",
        "\n",
        "if tipo != 'A' or 'a' and refrig != 'S' or 's':\n",
        "    desconto = 3 / 100 * precoCusto\n",
        "else:\n",
        "    desconto = 0\n",
        "\n",
        "print('Desconto: ',desconto)\n",
        "\n",
        "precoNovo = precoCusto + valorAdc - desconto\n",
        "print('Novo preço: ',precoNovo)\n",
        "\n",
        "if precoNovo <= 50:\n",
        "    print('Barato!')\n",
        "elif precoNovo < 100:\n",
        "    print('Normal!')\n",
        "else: \n",
        "    print('Caro!')\n",
        "\n"
      ],
      "execution_count": null,
      "outputs": [
        {
          "output_type": "stream",
          "name": "stdout",
          "text": [
            "Insira o preço do produto: 1000\n",
            "Insira o tipo do produto: l\n",
            "Precisa de refrigeração?(SIM / NÃO) s\n",
            "Valor adicional:  2.5\n",
            "Imposto:  80.0\n",
            "Preço de custo:  1080.0\n",
            "Desconto:  32.4\n",
            "Novo preço:  1050.1\n",
            "Caro!\n"
          ]
        }
      ]
    }
  ]
}